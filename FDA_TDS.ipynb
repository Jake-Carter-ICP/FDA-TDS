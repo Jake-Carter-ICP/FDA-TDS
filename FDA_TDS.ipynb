{
 "cells": [
  {
   "cell_type": "raw",
   "metadata": {
    "id": "HDC4Xuxg6874"
   },
   "source": [
    "---\n",
    "title: \"Quarto Basics\"\n",
    "format: \n",
    "  html:\n",
    "    code-fold: false\n",
    "jupyter: python3\n",
    "---"
   ]
  },
  {
   "cell_type": "markdown",
   "metadata": {},
   "source": [
    "#### This notebook describes some exploratory data analysis on the FDA Total Diet Study (https://www.fda.gov/food/reference-databases-and-monitoring-programs-food/fda-total-diet-study-tds).\n",
    "\n",
    "#### All data is public, located at https://www.fda.gov/food/fda-total-diet-study-tds/fda-total-diet-study-tds-results and https://www.fda.gov/food/fda-total-diet-study-tds/fda-total-diet-study-tds-1991-2017."
   ]
  },
  {
   "cell_type": "markdown",
   "metadata": {},
   "source": [
    "# First we load in the libraries and set defaults"
   ]
  },
  {
   "cell_type": "code",
   "execution_count": 1,
   "metadata": {
    "id": "HDC4Xuxg6874"
   },
   "outputs": [],
   "source": [
    "import pandas as pd\n",
    "import numpy as np\n",
    "from PIL import Image\n",
    "from IPython.display import display\n",
    "\n",
    "import matplotlib.pyplot as plt\n",
    "import seaborn as sns\n",
    "import plotly.express as px\n",
    "\n",
    "pd.options.display.max_columns = None\n",
    "pd.options.display.max_rows = 50"
   ]
  },
  {
   "cell_type": "markdown",
   "metadata": {},
   "source": [
    "# Now we read in the data files"
   ]
  },
  {
   "cell_type": "code",
   "execution_count": 2,
   "metadata": {
    "id": "T2kPyFNMXlzH"
   },
   "outputs": [],
   "source": [
    "years=list(range(1991, 2017))\n",
    "\n",
    "years=[str(x) + \".txt\" for x in years]"
   ]
  },
  {
   "cell_type": "code",
   "execution_count": 3,
   "metadata": {
    "colab": {
     "base_uri": "https://localhost:8080/",
     "height": 0
    },
    "id": "d2JaydmMZP2e",
    "outputId": "ab3fcbc8-4da3-4d76-9132-a14fc180cd58"
   },
   "outputs": [
    {
     "data": {
      "text/plain": [
       "['C:/Users/carte/OneDrive/Documents/FDA/TDS/elements/Elements 1991.txt',\n",
       " 'C:/Users/carte/OneDrive/Documents/FDA/TDS/elements/Elements 1992.txt',\n",
       " 'C:/Users/carte/OneDrive/Documents/FDA/TDS/elements/Elements 1993.txt',\n",
       " 'C:/Users/carte/OneDrive/Documents/FDA/TDS/elements/Elements 1994.txt',\n",
       " 'C:/Users/carte/OneDrive/Documents/FDA/TDS/elements/Elements 1995.txt',\n",
       " 'C:/Users/carte/OneDrive/Documents/FDA/TDS/elements/Elements 1996.txt',\n",
       " 'C:/Users/carte/OneDrive/Documents/FDA/TDS/elements/Elements 1997.txt',\n",
       " 'C:/Users/carte/OneDrive/Documents/FDA/TDS/elements/Elements 1998.txt',\n",
       " 'C:/Users/carte/OneDrive/Documents/FDA/TDS/elements/Elements 1999.txt',\n",
       " 'C:/Users/carte/OneDrive/Documents/FDA/TDS/elements/Elements 2000.txt',\n",
       " 'C:/Users/carte/OneDrive/Documents/FDA/TDS/elements/Elements 2001.txt',\n",
       " 'C:/Users/carte/OneDrive/Documents/FDA/TDS/elements/Elements 2002.txt',\n",
       " 'C:/Users/carte/OneDrive/Documents/FDA/TDS/elements/Elements 2003.txt',\n",
       " 'C:/Users/carte/OneDrive/Documents/FDA/TDS/elements/Elements 2004.txt',\n",
       " 'C:/Users/carte/OneDrive/Documents/FDA/TDS/elements/Elements 2005.txt',\n",
       " 'C:/Users/carte/OneDrive/Documents/FDA/TDS/elements/Elements 2006.txt',\n",
       " 'C:/Users/carte/OneDrive/Documents/FDA/TDS/elements/Elements 2007.txt',\n",
       " 'C:/Users/carte/OneDrive/Documents/FDA/TDS/elements/Elements 2008.txt',\n",
       " 'C:/Users/carte/OneDrive/Documents/FDA/TDS/elements/Elements 2009.txt',\n",
       " 'C:/Users/carte/OneDrive/Documents/FDA/TDS/elements/Elements 2010.txt',\n",
       " 'C:/Users/carte/OneDrive/Documents/FDA/TDS/elements/Elements 2011.txt',\n",
       " 'C:/Users/carte/OneDrive/Documents/FDA/TDS/elements/Elements 2012.txt',\n",
       " 'C:/Users/carte/OneDrive/Documents/FDA/TDS/elements/Elements 2013.txt',\n",
       " 'C:/Users/carte/OneDrive/Documents/FDA/TDS/elements/Elements 2014.txt',\n",
       " 'C:/Users/carte/OneDrive/Documents/FDA/TDS/elements/Elements 2015.txt',\n",
       " 'C:/Users/carte/OneDrive/Documents/FDA/TDS/elements/Elements 2016.txt']"
      ]
     },
     "execution_count": 3,
     "metadata": {},
     "output_type": "execute_result"
    }
   ],
   "source": [
    "years=[\"Elements \" + s for s in years]\n",
    "years = [\"C:/Users/carte/OneDrive/Documents/FDA/TDS/elements/\" + s for s in years]\n",
    "years"
   ]
  },
  {
   "cell_type": "code",
   "execution_count": 4,
   "metadata": {
    "colab": {
     "base_uri": "https://localhost:8080/",
     "height": 0
    },
    "id": "1iuOQrOVZOaH",
    "outputId": "3a2a5bd3-fba7-4f60-fe15-748c67ecbbbe"
   },
   "outputs": [
    {
     "data": {
      "text/plain": [
       "['C:/Users/carte/OneDrive/Documents/FDA/TDS/elements/Elements 1991.txt',\n",
       " 'C:/Users/carte/OneDrive/Documents/FDA/TDS/elements/Elements 1992.txt',\n",
       " 'C:/Users/carte/OneDrive/Documents/FDA/TDS/elements/Elements 1993.txt',\n",
       " 'C:/Users/carte/OneDrive/Documents/FDA/TDS/elements/Elements 1994.txt',\n",
       " 'C:/Users/carte/OneDrive/Documents/FDA/TDS/elements/Elements 1995.txt',\n",
       " 'C:/Users/carte/OneDrive/Documents/FDA/TDS/elements/Elements 1996.txt',\n",
       " 'C:/Users/carte/OneDrive/Documents/FDA/TDS/elements/Elements 1997.txt',\n",
       " 'C:/Users/carte/OneDrive/Documents/FDA/TDS/elements/Elements 1998.txt',\n",
       " 'C:/Users/carte/OneDrive/Documents/FDA/TDS/elements/Elements 1999.txt',\n",
       " 'C:/Users/carte/OneDrive/Documents/FDA/TDS/elements/Elements 2000.txt',\n",
       " 'C:/Users/carte/OneDrive/Documents/FDA/TDS/elements/Elements 2001.txt',\n",
       " 'C:/Users/carte/OneDrive/Documents/FDA/TDS/elements/Elements 2002.txt',\n",
       " 'C:/Users/carte/OneDrive/Documents/FDA/TDS/elements/Elements 2003.txt',\n",
       " 'C:/Users/carte/OneDrive/Documents/FDA/TDS/elements/Elements 2004.txt',\n",
       " 'C:/Users/carte/OneDrive/Documents/FDA/TDS/elements/Elements 2005.txt',\n",
       " 'C:/Users/carte/OneDrive/Documents/FDA/TDS/elements/Elements 2006.txt',\n",
       " 'C:/Users/carte/OneDrive/Documents/FDA/TDS/elements/Elements 2007.txt',\n",
       " 'C:/Users/carte/OneDrive/Documents/FDA/TDS/elements/Elements 2008.txt',\n",
       " 'C:/Users/carte/OneDrive/Documents/FDA/TDS/elements/Elements 2009.txt',\n",
       " 'C:/Users/carte/OneDrive/Documents/FDA/TDS/elements/Elements 2010.txt',\n",
       " 'C:/Users/carte/OneDrive/Documents/FDA/TDS/elements/Elements 2011.txt',\n",
       " 'C:/Users/carte/OneDrive/Documents/FDA/TDS/elements/Elements 2012.txt',\n",
       " 'C:/Users/carte/OneDrive/Documents/FDA/TDS/elements/Elements 2013.txt',\n",
       " 'C:/Users/carte/OneDrive/Documents/FDA/TDS/elements/Elements 2014.txt',\n",
       " 'C:/Users/carte/OneDrive/Documents/FDA/TDS/elements/Elements 2015.txt',\n",
       " 'C:/Users/carte/OneDrive/Documents/FDA/TDS/elements/Elements 2016.txt',\n",
       " 'C:/Users/carte/OneDrive/Documents/FDA/TDS/elements/Elements 2017 MB 1-3.txt',\n",
       " 'C:/Users/carte/OneDrive/Documents/FDA/TDS/elements/Elements 2017 MB 4.txt']"
      ]
     },
     "execution_count": 4,
     "metadata": {},
     "output_type": "execute_result"
    }
   ],
   "source": [
    "files = years + [\"C:/Users/carte/OneDrive/Documents/FDA/TDS/elements/Elements 2017 MB 1-3.txt\", \"C:/Users/carte/OneDrive/Documents/FDA/TDS/elements/Elements 2017 MB 4.txt\"]\n",
    "files"
   ]
  },
  {
   "cell_type": "code",
   "execution_count": 5,
   "metadata": {
    "id": "eZR6ehf5-2oK"
   },
   "outputs": [],
   "source": [
    "data_read = []\n",
    "\n",
    "for file in files:\n",
    "  data_read.append(pd.read_table(file, encoding = 'latin-1'))\n",
    "\n",
    "data_read.append(pd.read_csv(\"C:/Users/carte/OneDrive/Documents/FDA/TDS/elements/2018_2020.csv\"))"
   ]
  },
  {
   "cell_type": "markdown",
   "metadata": {},
   "source": [
    "# Initial Data Exploration: Shape and Data Types"
   ]
  },
  {
   "cell_type": "code",
   "execution_count": 6,
   "metadata": {
    "id": "lqvNakd6fpou"
   },
   "outputs": [
    {
     "data": {
      "text/plain": [
       "(429946, 37)"
      ]
     },
     "execution_count": 6,
     "metadata": {},
     "output_type": "execute_result"
    }
   ],
   "source": [
    "df = pd.concat(data_read)\n",
    "df.shape"
   ]
  },
  {
   "cell_type": "code",
   "execution_count": 7,
   "metadata": {},
   "outputs": [
    {
     "data": {
      "text/plain": [
       "MB                              float64\n",
       "Food No.                        float64\n",
       "Food Name                        object\n",
       "Anal Type                        object\n",
       "Sample Qualifier                 object\n",
       "Replicate No.                    object\n",
       "Element                          object\n",
       "Conc                            float64\n",
       "Unit                             object\n",
       "Trace                            object\n",
       "LOD                             float64\n",
       "LOQ                             float64\n",
       "Result Qualifier and Remarks     object\n",
       "Method                           object\n",
       "Instrument                       object\n",
       "Batch ID                         object\n",
       "METHOD                           object\n",
       "Food No                         float64\n",
       "ReplicateNo                      object\n",
       "Reference Material               object\n",
       "QC Level                         object\n",
       "QC Unit                          object\n",
       "QC% Recvd                        object\n",
       "City ID                          object\n",
       "Replicate No                    float64\n",
       "FiscalYear                      float64\n",
       "CalendarYear                    float64\n",
       "Collection                      float64\n",
       "TDSFoodNumber                   float64\n",
       "TDSFoodDescription               object\n",
       "Season                           object\n",
       "TDSFoodListType                  object\n",
       "Region                           object\n",
       "Analyte                          object\n",
       "Units                            object\n",
       "Concentration                   float64\n",
       "ReportingLimit                  float64\n",
       "dtype: object"
      ]
     },
     "execution_count": 7,
     "metadata": {},
     "output_type": "execute_result"
    }
   ],
   "source": [
    "df.dtypes"
   ]
  },
  {
   "cell_type": "code",
   "execution_count": 8,
   "metadata": {},
   "outputs": [
    {
     "data": {
      "image/png": "[encoded data removed]",
      "text/plain": [
       "<PIL.PngImagePlugin.PngImageFile image mode=RGBA size=512x600>"
      ]
     },
     "metadata": {},
     "output_type": "display_data"
    }
   ],
   "source": [
    "img = Image.open('C:/Users/carte/OneDrive/Documents/GitHub/FDA-TDS/elements_column_key.PNG')\n",
    "display(img)"
   ]
  },
  {
   "cell_type": "markdown",
   "metadata": {},
   "source": [
    "# Inital Data Exploration Inlcuding Some Data Cleaning"
   ]
  },
  {
   "cell_type": "markdown",
   "metadata": {},
   "source": [
    "Fixing column names"
   ]
  },
  {
   "cell_type": "code",
   "execution_count": 9,
   "metadata": {},
   "outputs": [
    {
     "data": {
      "text/plain": [
       "Index(['MB', 'Food_No_', 'Food_Name', 'Anal_Type', 'Sample_Qualifier',\n",
       "       'Replicate_No_', 'Element', 'Conc', 'Unit', 'Trace', 'LOD', 'LOQ',\n",
       "       'Result_Qualifier_and_Remarks', 'Method', 'Instrument', 'Batch_ID',\n",
       "       'METHOD', 'Food_No', 'ReplicateNo', 'Reference_Material', 'QC_Level',\n",
       "       'QC_Unit', 'QC_percent__Recvd', 'City_ID', 'Replicate_No', 'FiscalYear',\n",
       "       'CalendarYear', 'Collection', 'TDSFoodNumber', 'TDSFoodDescription',\n",
       "       'Season', 'TDSFoodListType', 'Region', 'Analyte', 'Units',\n",
       "       'Concentration', 'ReportingLimit'],\n",
       "      dtype='object')"
      ]
     },
     "execution_count": 9,
     "metadata": {},
     "output_type": "execute_result"
    }
   ],
   "source": [
    "df.columns = df.columns\\\n",
    "    .str.replace(\" \", \"_\")\\\n",
    "    .str.replace(\".\", \"_\")\\\n",
    "    .str.replace(\"%\", \"_percent_\")\n",
    "df.columns"
   ]
  },
  {
   "cell_type": "markdown",
   "metadata": {},
   "source": [
    "Fixing Food_Name"
   ]
  },
  {
   "cell_type": "code",
   "execution_count": 10,
   "metadata": {
    "colab": {
     "base_uri": "https://localhost:8080/",
     "height": 0
    },
    "id": "otJ6y_EjAN30",
    "outputId": "538878b8-04fe-4b2c-85fe-94b7b6a142a3"
   },
   "outputs": [],
   "source": [
    "df['Food_Name'] = df['Food_Name']\\\n",
    "    .str.replace('w/', 'with')\\\n",
    "    .str.upper()\\\n",
    "    .str.replace(', ', '_').str.upper()\\\n",
    "    .str.replace(' ', '_').str.upper()\\\n",
    "    .str.removesuffix('_')\n",
    "\n",
    "#df['Food.Name'].unique()"
   ]
  },
  {
   "cell_type": "markdown",
   "metadata": {},
   "source": [
    "From column key, we see the first four digits of MB are the year. The last two digits are the specific market basket. Let's extract this information."
   ]
  },
  {
   "cell_type": "code",
   "execution_count": 11,
   "metadata": {},
   "outputs": [],
   "source": [
    "df['Year'] = df.MB.astype(str).str[:4].astype(float)"
   ]
  },
  {
   "cell_type": "code",
   "execution_count": 12,
   "metadata": {},
   "outputs": [],
   "source": [
    "df['Market_Basket'] = df.MB.astype(str).str[-4:]"
   ]
  },
  {
   "cell_type": "raw",
   "metadata": {},
   "source": [
    "What's missing in the data"
   ]
  },
  {
   "cell_type": "code",
   "execution_count": 13,
   "metadata": {},
   "outputs": [
    {
     "data": {
      "text/plain": [
       "MB                               58079\n",
       "Food_No_                         90743\n",
       "Food_Name                        58079\n",
       "Anal_Type                        58079\n",
       "Sample_Qualifier                307204\n",
       "Replicate_No_                   354905\n",
       "Element                          58079\n",
       "Conc                             58079\n",
       "Unit                             58079\n",
       "Trace                           370168\n",
       "LOD                              59909\n",
       "LOQ                              59909\n",
       "Result_Qualifier_and_Remarks    319556\n",
       "Method                          137807\n",
       "Instrument                       58081\n",
       "Batch_ID                        173749\n",
       "METHOD                          350220\n",
       "Food_No                         397282\n",
       "ReplicateNo                     415226\n",
       "Reference_Material              415226\n",
       "QC_Level                        415226\n",
       "QC_Unit                         415226\n",
       "QC_percent__Recvd               415226\n",
       "City_ID                         429833\n",
       "Replicate_No                    429469\n",
       "FiscalYear                      371867\n",
       "CalendarYear                    371867\n",
       "Collection                      371867\n",
       "TDSFoodNumber                   371867\n",
       "TDSFoodDescription              371867\n",
       "Season                          371867\n",
       "TDSFoodListType                 371867\n",
       "Region                          371868\n",
       "Analyte                         371868\n",
       "Units                           371868\n",
       "Concentration                   371868\n",
       "ReportingLimit                  371868\n",
       "Year                             58079\n",
       "Market_Basket                        0\n",
       "dtype: int64"
      ]
     },
     "execution_count": 13,
     "metadata": {},
     "output_type": "execute_result"
    }
   ],
   "source": [
    "df.isnull().sum()"
   ]
  },
  {
   "cell_type": "markdown",
   "metadata": {},
   "source": [
    "Let's get the Unit vs Units worked out"
   ]
  },
  {
   "cell_type": "code",
   "execution_count": 14,
   "metadata": {
    "colab": {
     "base_uri": "https://localhost:8080/",
     "height": 0
    },
    "id": "YjMQk9QeBofK",
    "outputId": "4dd6c5ad-e9f3-4bf7-bd07-f6120c7382a5"
   },
   "outputs": [
    {
     "data": {
      "text/plain": [
       "array(['mg/kg', '%', 'ug/kg', nan], dtype=object)"
      ]
     },
     "execution_count": 14,
     "metadata": {},
     "output_type": "execute_result"
    }
   ],
   "source": [
    "df['Unit']=df['Unit'].str.replace(' ', '')\n",
    "df['Unit'].unique()"
   ]
  },
  {
   "cell_type": "markdown",
   "metadata": {},
   "source": [
    "What are the null entries?\n",
    "Trying to figure out if the difference in null units between Unit and Units"
   ]
  },
  {
   "cell_type": "code",
   "execution_count": 15,
   "metadata": {},
   "outputs": [
    {
     "data": {
      "text/plain": [
       "1"
      ]
     },
     "execution_count": 15,
     "metadata": {},
     "output_type": "execute_result"
    }
   ],
   "source": [
    "(pd.isnull(df['Units']) & pd.isnull(df['Unit'])).sum()"
   ]
  },
  {
   "cell_type": "markdown",
   "metadata": {},
   "source": [
    "So there are is one row where Unit and Units are empty"
   ]
  },
  {
   "cell_type": "code",
   "execution_count": 16,
   "metadata": {},
   "outputs": [],
   "source": [
    "df = df[~(pd.isnull(df['Units']) & pd.isnull(df['Unit']))].copy()"
   ]
  },
  {
   "cell_type": "code",
   "execution_count": 17,
   "metadata": {},
   "outputs": [
    {
     "data": {
      "text/plain": [
       "(429945, 39)"
      ]
     },
     "execution_count": 17,
     "metadata": {},
     "output_type": "execute_result"
    }
   ],
   "source": [
    "df.shape"
   ]
  },
  {
   "cell_type": "code",
   "execution_count": 18,
   "metadata": {},
   "outputs": [
    {
     "data": {
      "text/plain": [
       "371867"
      ]
     },
     "execution_count": 18,
     "metadata": {},
     "output_type": "execute_result"
    }
   ],
   "source": [
    "pd.isnull(df['Units']).sum()"
   ]
  },
  {
   "cell_type": "code",
   "execution_count": 19,
   "metadata": {},
   "outputs": [
    {
     "data": {
      "text/plain": [
       "58078"
      ]
     },
     "execution_count": 19,
     "metadata": {},
     "output_type": "execute_result"
    }
   ],
   "source": [
    "pd.isnull(df['Unit']).sum()"
   ]
  },
  {
   "cell_type": "code",
   "execution_count": 20,
   "metadata": {},
   "outputs": [
    {
     "data": {
      "text/plain": [
       "429945"
      ]
     },
     "execution_count": 20,
     "metadata": {},
     "output_type": "execute_result"
    }
   ],
   "source": [
    "pd.isnull(df['Units']).sum() + pd.isnull(df['Unit']).sum()"
   ]
  },
  {
   "cell_type": "markdown",
   "metadata": {},
   "source": [
    "So we are going to simply substitute for Unit and drop ['Units']"
   ]
  },
  {
   "cell_type": "code",
   "execution_count": 21,
   "metadata": {},
   "outputs": [],
   "source": [
    "def replace_null_with_column(df, col_a, col_b):\n",
    "    df[col_a] = df.apply(lambda row: row[col_b] if pd.isnull(row[col_a]) else row[col_a], axis=1)\n",
    "    return df"
   ]
  },
  {
   "cell_type": "code",
   "execution_count": 22,
   "metadata": {},
   "outputs": [],
   "source": [
    "df = replace_null_with_column(df, 'Unit', 'Units')"
   ]
  },
  {
   "cell_type": "code",
   "execution_count": 23,
   "metadata": {},
   "outputs": [
    {
     "data": {
      "text/plain": [
       "0"
      ]
     },
     "execution_count": 23,
     "metadata": {},
     "output_type": "execute_result"
    }
   ],
   "source": [
    "pd.isnull(df['Unit']).sum()"
   ]
  },
  {
   "cell_type": "code",
   "execution_count": 24,
   "metadata": {},
   "outputs": [],
   "source": [
    "df = df.drop(['Units'], axis = 1)"
   ]
  },
  {
   "cell_type": "code",
   "execution_count": 25,
   "metadata": {},
   "outputs": [
    {
     "data": {
      "text/plain": [
       "0"
      ]
     },
     "execution_count": 25,
     "metadata": {},
     "output_type": "execute_result"
    }
   ],
   "source": [
    "(pd.isnull(df['Conc']) & pd.isnull(df['Concentration'])).sum()"
   ]
  },
  {
   "cell_type": "code",
   "execution_count": 26,
   "metadata": {},
   "outputs": [
    {
     "data": {
      "text/plain": [
       "58078"
      ]
     },
     "execution_count": 26,
     "metadata": {},
     "output_type": "execute_result"
    }
   ],
   "source": [
    "df['Conc'].isnull().sum()"
   ]
  },
  {
   "cell_type": "code",
   "execution_count": 27,
   "metadata": {},
   "outputs": [
    {
     "data": {
      "text/plain": [
       "371867"
      ]
     },
     "execution_count": 27,
     "metadata": {},
     "output_type": "execute_result"
    }
   ],
   "source": [
    "df['Concentration'].isnull().sum()"
   ]
  },
  {
   "cell_type": "code",
   "execution_count": 28,
   "metadata": {},
   "outputs": [
    {
     "data": {
      "text/plain": [
       "429945"
      ]
     },
     "execution_count": 28,
     "metadata": {},
     "output_type": "execute_result"
    }
   ],
   "source": [
    "df['Conc'].isnull().sum() + df['Concentration'].isnull().sum()"
   ]
  },
  {
   "cell_type": "markdown",
   "metadata": {},
   "source": [
    "So just like above we need to substitute for Conc"
   ]
  },
  {
   "cell_type": "code",
   "execution_count": 29,
   "metadata": {},
   "outputs": [],
   "source": [
    "df = replace_null_with_column(df, 'Conc', 'Concentration')"
   ]
  },
  {
   "cell_type": "code",
   "execution_count": 30,
   "metadata": {},
   "outputs": [
    {
     "data": {
      "text/plain": [
       "0"
      ]
     },
     "execution_count": 30,
     "metadata": {},
     "output_type": "execute_result"
    }
   ],
   "source": [
    "df['Conc'].isnull().sum()"
   ]
  },
  {
   "cell_type": "code",
   "execution_count": 31,
   "metadata": {},
   "outputs": [],
   "source": [
    "df = df.drop(['Concentration'], axis = 1)"
   ]
  },
  {
   "cell_type": "code",
   "execution_count": 32,
   "metadata": {},
   "outputs": [
    {
     "data": {
      "text/plain": [
       "58078"
      ]
     },
     "execution_count": 32,
     "metadata": {},
     "output_type": "execute_result"
    }
   ],
   "source": [
    "df['Element'].isnull().sum()"
   ]
  },
  {
   "cell_type": "code",
   "execution_count": 33,
   "metadata": {},
   "outputs": [
    {
     "data": {
      "text/plain": [
       "371867"
      ]
     },
     "execution_count": 33,
     "metadata": {},
     "output_type": "execute_result"
    }
   ],
   "source": [
    "df['Analyte'].isnull().sum()"
   ]
  },
  {
   "cell_type": "code",
   "execution_count": 34,
   "metadata": {},
   "outputs": [
    {
     "data": {
      "text/plain": [
       "429945"
      ]
     },
     "execution_count": 34,
     "metadata": {},
     "output_type": "execute_result"
    }
   ],
   "source": [
    "df['Element'].isnull().sum() + df['Analyte'].isnull().sum()"
   ]
  },
  {
   "cell_type": "code",
   "execution_count": 35,
   "metadata": {},
   "outputs": [],
   "source": [
    "df = replace_null_with_column(df, 'Element', 'Analyte')"
   ]
  },
  {
   "cell_type": "code",
   "execution_count": 36,
   "metadata": {},
   "outputs": [],
   "source": [
    "df = df.drop(['Analyte'], axis = 1)"
   ]
  },
  {
   "cell_type": "code",
   "execution_count": 37,
   "metadata": {},
   "outputs": [
    {
     "data": {
      "text/plain": [
       "Index(['MB', 'Food_No_', 'Food_Name', 'Anal_Type', 'Sample_Qualifier',\n",
       "       'Replicate_No_', 'Element', 'Conc', 'Unit', 'Trace', 'LOD', 'LOQ',\n",
       "       'Result_Qualifier_and_Remarks', 'Method', 'Instrument', 'Batch_ID',\n",
       "       'METHOD', 'Food_No', 'ReplicateNo', 'Reference_Material', 'QC_Level',\n",
       "       'QC_Unit', 'QC_percent__Recvd', 'City_ID', 'Replicate_No', 'FiscalYear',\n",
       "       'CalendarYear', 'Collection', 'TDSFoodNumber', 'TDSFoodDescription',\n",
       "       'Season', 'TDSFoodListType', 'Region', 'ReportingLimit', 'Year',\n",
       "       'Market_Basket'],\n",
       "      dtype='object')"
      ]
     },
     "execution_count": 37,
     "metadata": {},
     "output_type": "execute_result"
    }
   ],
   "source": [
    "df.columns"
   ]
  },
  {
   "cell_type": "code",
   "execution_count": 38,
   "metadata": {},
   "outputs": [
    {
     "data": {
      "text/plain": [
       "(429945, 36)"
      ]
     },
     "execution_count": 38,
     "metadata": {},
     "output_type": "execute_result"
    }
   ],
   "source": [
    "df.shape"
   ]
  },
  {
   "cell_type": "markdown",
   "metadata": {},
   "source": [
    "Let's fix the food names and food ID"
   ]
  },
  {
   "cell_type": "code",
   "execution_count": 39,
   "metadata": {},
   "outputs": [
    {
     "data": {
      "text/plain": [
       "58078"
      ]
     },
     "execution_count": 39,
     "metadata": {},
     "output_type": "execute_result"
    }
   ],
   "source": [
    "(df.Food_No.isnull() & df.Food_No_.isnull()).sum()"
   ]
  },
  {
   "cell_type": "code",
   "execution_count": 40,
   "metadata": {},
   "outputs": [
    {
     "data": {
      "text/plain": [
       "397281"
      ]
     },
     "execution_count": 40,
     "metadata": {},
     "output_type": "execute_result"
    }
   ],
   "source": [
    "df.Food_No.isnull().sum()"
   ]
  },
  {
   "cell_type": "code",
   "execution_count": 41,
   "metadata": {},
   "outputs": [],
   "source": [
    "df = replace_null_with_column(df, 'Food_No', 'Food_No_')"
   ]
  },
  {
   "cell_type": "code",
   "execution_count": 42,
   "metadata": {},
   "outputs": [
    {
     "data": {
      "text/plain": [
       "58078"
      ]
     },
     "execution_count": 42,
     "metadata": {},
     "output_type": "execute_result"
    }
   ],
   "source": [
    "df.Food_No.isnull().sum()"
   ]
  },
  {
   "cell_type": "code",
   "execution_count": 43,
   "metadata": {},
   "outputs": [],
   "source": [
    "df = df.drop(['Food_No_'], axis = 1)"
   ]
  },
  {
   "cell_type": "markdown",
   "metadata": {},
   "source": [
    "# Exploring Missing Information in Depth"
   ]
  },
  {
   "cell_type": "code",
   "execution_count": 44,
   "metadata": {},
   "outputs": [],
   "source": [
    "food_names_without_no = df[df.Food_No.isnull()].Food_Name.unique()"
   ]
  },
  {
   "cell_type": "code",
   "execution_count": 45,
   "metadata": {},
   "outputs": [
    {
     "data": {
      "text/html": [
       "<div>\n",
       "<style scoped>\n",
       "    .dataframe tbody tr th:only-of-type {\n",
       "        vertical-align: middle;\n",
       "    }\n",
       "\n",
       "    .dataframe tbody tr th {\n",
       "        vertical-align: top;\n",
       "    }\n",
       "\n",
       "    .dataframe thead th {\n",
       "        text-align: right;\n",
       "    }\n",
       "</style>\n",
       "<table border=\"1\" class=\"dataframe\">\n",
       "  <thead>\n",
       "    <tr style=\"text-align: right;\">\n",
       "      <th></th>\n",
       "      <th>Food_Name</th>\n",
       "      <th>Food_No</th>\n",
       "    </tr>\n",
       "  </thead>\n",
       "  <tbody>\n",
       "    <tr>\n",
       "      <th>0</th>\n",
       "      <td>WHOLE_MILK_FLUID</td>\n",
       "      <td>1.0</td>\n",
       "    </tr>\n",
       "    <tr>\n",
       "      <th>13</th>\n",
       "      <td>LOWFAT_(2%_FAT)_MILK_FLUID</td>\n",
       "      <td>2.0</td>\n",
       "    </tr>\n",
       "    <tr>\n",
       "      <th>27</th>\n",
       "      <td>CHOCOLATE_MILK_FLUID</td>\n",
       "      <td>3.0</td>\n",
       "    </tr>\n",
       "    <tr>\n",
       "      <th>40</th>\n",
       "      <td>SKIM_MILK_FLUID</td>\n",
       "      <td>4.0</td>\n",
       "    </tr>\n",
       "    <tr>\n",
       "      <th>53</th>\n",
       "      <td>PLAIN_YOGURT_LOWFAT</td>\n",
       "      <td>6.0</td>\n",
       "    </tr>\n",
       "    <tr>\n",
       "      <th>...</th>\n",
       "      <td>...</td>\n",
       "      <td>...</td>\n",
       "    </tr>\n",
       "    <tr>\n",
       "      <th>83</th>\n",
       "      <td>BREAD_WHITE_ROLL/BUN_(HAMBURGER/HOTDOG)</td>\n",
       "      <td>401.0</td>\n",
       "    </tr>\n",
       "    <tr>\n",
       "      <th>84</th>\n",
       "      <td>RICE_BROWN_COOKED</td>\n",
       "      <td>402.0</td>\n",
       "    </tr>\n",
       "    <tr>\n",
       "      <th>85</th>\n",
       "      <td>WALNUTS_SHELLED</td>\n",
       "      <td>403.0</td>\n",
       "    </tr>\n",
       "    <tr>\n",
       "      <th>86</th>\n",
       "      <td>PIZZA_CHEESE_FAST-FOOD</td>\n",
       "      <td>404.0</td>\n",
       "    </tr>\n",
       "    <tr>\n",
       "      <th>0</th>\n",
       "      <td>NaN</td>\n",
       "      <td>NaN</td>\n",
       "    </tr>\n",
       "  </tbody>\n",
       "</table>\n",
       "<p>556 rows × 2 columns</p>\n",
       "</div>"
      ],
      "text/plain": [
       "                                  Food_Name  Food_No\n",
       "0                          WHOLE_MILK_FLUID      1.0\n",
       "13               LOWFAT_(2%_FAT)_MILK_FLUID      2.0\n",
       "27                     CHOCOLATE_MILK_FLUID      3.0\n",
       "40                          SKIM_MILK_FLUID      4.0\n",
       "53                      PLAIN_YOGURT_LOWFAT      6.0\n",
       "..                                      ...      ...\n",
       "83  BREAD_WHITE_ROLL/BUN_(HAMBURGER/HOTDOG)    401.0\n",
       "84                        RICE_BROWN_COOKED    402.0\n",
       "85                          WALNUTS_SHELLED    403.0\n",
       "86                   PIZZA_CHEESE_FAST-FOOD    404.0\n",
       "0                                       NaN      NaN\n",
       "\n",
       "[556 rows x 2 columns]"
      ]
     },
     "execution_count": 45,
     "metadata": {},
     "output_type": "execute_result"
    }
   ],
   "source": [
    "df[['Food_Name', \"Food_No\"]].drop_duplicates()"
   ]
  },
  {
   "cell_type": "markdown",
   "metadata": {},
   "source": [
    "We are trying to figure out what food ID numbers arent in the range of 1 to food ID MAX"
   ]
  },
  {
   "cell_type": "code",
   "execution_count": 46,
   "metadata": {},
   "outputs": [
    {
     "data": {
      "text/plain": [
       "58078"
      ]
     },
     "execution_count": 46,
     "metadata": {},
     "output_type": "execute_result"
    }
   ],
   "source": [
    "df.Food_No.isnull().sum()"
   ]
  },
  {
   "cell_type": "code",
   "execution_count": 47,
   "metadata": {},
   "outputs": [],
   "source": [
    "food_id_range = np.arange(1,\n",
    "    df['Food_No']\\\n",
    "    .dropna()\\\n",
    "    .unique()\\\n",
    "    .max(),\n",
    "    dtype='int')"
   ]
  },
  {
   "cell_type": "markdown",
   "metadata": {},
   "source": [
    "So what Food IDs are not present?"
   ]
  },
  {
   "cell_type": "code",
   "execution_count": 48,
   "metadata": {},
   "outputs": [
    {
     "data": {
      "text/plain": [
       "array([  5,   9,  15,  23,  25,  31,  33,  40,  41,  43,  44,  45,  49,\n",
       "        82,  90, 101, 102, 104, 106, 118, 120, 127, 129, 130, 133, 141,\n",
       "       144, 150, 153, 154, 158, 159, 163, 165, 171, 174, 176, 180, 181,\n",
       "       189, 192, 195, 204, 206, 217, 228, 229, 234, 315, 321, 322, 329,\n",
       "       330, 349, 383, 384, 405, 406, 407, 408, 409, 410, 411, 412, 413,\n",
       "       414, 415, 416, 417, 418, 419, 420, 421, 422, 423, 424, 425, 426,\n",
       "       427, 428, 429, 430, 431, 432, 433, 434, 435, 436, 437, 438, 439,\n",
       "       440, 441, 442, 443, 444, 445, 446, 447, 448, 449, 450, 451, 452,\n",
       "       453, 454, 455, 456, 457, 458, 459, 460, 461, 462, 463, 464, 465,\n",
       "       466, 467, 468, 469, 470, 471, 472, 473, 474, 475, 476, 477, 478,\n",
       "       479, 480, 481, 482, 483, 484, 485, 486, 487, 488, 489, 490, 491,\n",
       "       492, 493, 494, 495, 496, 497, 498, 499, 500, 501, 502, 503, 504,\n",
       "       505, 506, 507, 508, 509, 510, 511, 512, 513, 514, 515, 516, 517,\n",
       "       518, 519, 520, 521, 522, 523, 524, 525, 526, 527, 528, 529, 530,\n",
       "       531, 532, 533, 534, 535, 536, 537, 538, 539, 540, 541, 542, 543,\n",
       "       544, 545, 546, 547, 548, 549, 550, 551, 552, 553, 554, 555, 556,\n",
       "       557, 558, 559, 560, 561, 562, 563, 564, 565, 566, 567, 568, 569,\n",
       "       570, 571, 572, 573, 574, 575, 576, 577, 578, 579, 580, 581, 582,\n",
       "       583, 584, 585, 586, 587, 588, 589, 590, 591, 592, 593, 594, 595,\n",
       "       596, 597, 598, 599, 600, 601, 602, 603, 604, 605, 606, 607, 608,\n",
       "       609, 610, 611, 612, 613, 614, 615, 616, 617, 618, 619, 620, 621,\n",
       "       622, 623, 624, 625, 626, 627, 628, 629, 630, 631, 632, 633, 634,\n",
       "       635, 636, 637, 638, 639, 640, 641, 642, 643, 644, 645, 646, 647,\n",
       "       648, 649, 650, 651, 652, 653, 654, 655, 656, 657, 658, 659, 660,\n",
       "       661, 662, 663, 664, 665, 666, 667, 668, 669, 670, 671, 672, 673,\n",
       "       674, 675, 676, 677, 678, 679, 680, 681, 682, 683, 684, 685, 686,\n",
       "       687, 688, 689, 690, 691, 692, 693, 694, 695, 696, 697, 698, 699,\n",
       "       702, 706, 707, 708, 709, 716, 718])"
      ]
     },
     "execution_count": 48,
     "metadata": {},
     "output_type": "execute_result"
    }
   ],
   "source": [
    "food_ids_not_in_df = food_id_range[~np.isin(food_id_range, df['Food_No'].dropna().drop_duplicates())]\n",
    "food_ids_not_in_df"
   ]
  },
  {
   "cell_type": "code",
   "execution_count": 49,
   "metadata": {},
   "outputs": [
    {
     "data": {
      "text/html": [
       "<div>\n",
       "<style scoped>\n",
       "    .dataframe tbody tr th:only-of-type {\n",
       "        vertical-align: middle;\n",
       "    }\n",
       "\n",
       "    .dataframe tbody tr th {\n",
       "        vertical-align: top;\n",
       "    }\n",
       "\n",
       "    .dataframe thead th {\n",
       "        text-align: right;\n",
       "    }\n",
       "</style>\n",
       "<table border=\"1\" class=\"dataframe\">\n",
       "  <thead>\n",
       "    <tr style=\"text-align: right;\">\n",
       "      <th></th>\n",
       "      <th>Food_Name</th>\n",
       "      <th>Food_No</th>\n",
       "    </tr>\n",
       "  </thead>\n",
       "  <tbody>\n",
       "    <tr>\n",
       "      <th>0</th>\n",
       "      <td>WHOLE_MILK_FLUID</td>\n",
       "      <td>1.0</td>\n",
       "    </tr>\n",
       "    <tr>\n",
       "      <th>13</th>\n",
       "      <td>LOWFAT_(2%_FAT)_MILK_FLUID</td>\n",
       "      <td>2.0</td>\n",
       "    </tr>\n",
       "    <tr>\n",
       "      <th>27</th>\n",
       "      <td>CHOCOLATE_MILK_FLUID</td>\n",
       "      <td>3.0</td>\n",
       "    </tr>\n",
       "    <tr>\n",
       "      <th>40</th>\n",
       "      <td>SKIM_MILK_FLUID</td>\n",
       "      <td>4.0</td>\n",
       "    </tr>\n",
       "    <tr>\n",
       "      <th>53</th>\n",
       "      <td>PLAIN_YOGURT_LOWFAT</td>\n",
       "      <td>6.0</td>\n",
       "    </tr>\n",
       "    <tr>\n",
       "      <th>...</th>\n",
       "      <td>...</td>\n",
       "      <td>...</td>\n",
       "    </tr>\n",
       "    <tr>\n",
       "      <th>82</th>\n",
       "      <td>TORTILLA_CORN</td>\n",
       "      <td>400.0</td>\n",
       "    </tr>\n",
       "    <tr>\n",
       "      <th>83</th>\n",
       "      <td>BREAD_WHITE_ROLL/BUN_(HAMBURGER/HOTDOG)</td>\n",
       "      <td>401.0</td>\n",
       "    </tr>\n",
       "    <tr>\n",
       "      <th>84</th>\n",
       "      <td>RICE_BROWN_COOKED</td>\n",
       "      <td>402.0</td>\n",
       "    </tr>\n",
       "    <tr>\n",
       "      <th>85</th>\n",
       "      <td>WALNUTS_SHELLED</td>\n",
       "      <td>403.0</td>\n",
       "    </tr>\n",
       "    <tr>\n",
       "      <th>86</th>\n",
       "      <td>PIZZA_CHEESE_FAST-FOOD</td>\n",
       "      <td>404.0</td>\n",
       "    </tr>\n",
       "  </tbody>\n",
       "</table>\n",
       "<p>555 rows × 2 columns</p>\n",
       "</div>"
      ],
      "text/plain": [
       "                                  Food_Name  Food_No\n",
       "0                          WHOLE_MILK_FLUID      1.0\n",
       "13               LOWFAT_(2%_FAT)_MILK_FLUID      2.0\n",
       "27                     CHOCOLATE_MILK_FLUID      3.0\n",
       "40                          SKIM_MILK_FLUID      4.0\n",
       "53                      PLAIN_YOGURT_LOWFAT      6.0\n",
       "..                                      ...      ...\n",
       "82                            TORTILLA_CORN    400.0\n",
       "83  BREAD_WHITE_ROLL/BUN_(HAMBURGER/HOTDOG)    401.0\n",
       "84                        RICE_BROWN_COOKED    402.0\n",
       "85                          WALNUTS_SHELLED    403.0\n",
       "86                   PIZZA_CHEESE_FAST-FOOD    404.0\n",
       "\n",
       "[555 rows x 2 columns]"
      ]
     },
     "execution_count": 49,
     "metadata": {},
     "output_type": "execute_result"
    }
   ],
   "source": [
    "food_name_ID = df[['Food_Name', \"Food_No\"]].drop_duplicates()\n",
    "food_name_ID[~food_name_ID.Food_No.isnull()]"
   ]
  },
  {
   "cell_type": "markdown",
   "metadata": {},
   "source": [
    "# More Data Cleaning"
   ]
  },
  {
   "cell_type": "markdown",
   "metadata": {},
   "source": [
    "Let's now work on the units variable"
   ]
  },
  {
   "cell_type": "code",
   "execution_count": 50,
   "metadata": {},
   "outputs": [],
   "source": [
    "df['Conc_mgkg'] = np.where(df['Unit']==\"ug/kg\", df['Conc']/1000, df['Conc'])\n",
    "df['Conc_mgkg'] = np.where(df['Unit']==\"ppb\", df['Conc']/1000, df['Conc'])"
   ]
  },
  {
   "cell_type": "code",
   "execution_count": 51,
   "metadata": {},
   "outputs": [],
   "source": [
    "df = df.drop(['Conc'], axis = 1)"
   ]
  },
  {
   "cell_type": "markdown",
   "metadata": {},
   "source": [
    "Fix capitalization in the elements variable"
   ]
  },
  {
   "cell_type": "code",
   "execution_count": 52,
   "metadata": {},
   "outputs": [
    {
     "data": {
      "text/plain": [
       "array(['ARSENIC', 'CADMIUM', 'CALCIUM', 'COPPER', 'IRON', 'LEAD',\n",
       "       'MAGNESIUM', 'MERCURY', 'PHOSPHORUS', 'POTASSIUM', 'SELENIUM',\n",
       "       'SODIUM', 'ZINC', 'MANGANESE', 'NICKEL', 'IODINE', 'ANTIMONY',\n",
       "       'ALUMINUM', 'MOLYBDENUM', 'WATER (ANALYSIS FOR TOTAL DIET ONLY)',\n",
       "       'BARIUM', 'BERYLLIUM', 'CHROMIUM', 'DIMETHYLARSINIC ACID ',\n",
       "       'MONOMETHYLARSONIC ACID ', 'SILVER', 'THALLIUM',\n",
       "       'TOTAL INORGANIC ARSENIC ', 'URANIUM', 'DIMETHYLARSINIC ACID',\n",
       "       'MONOMETHYLARSONIC ACID', 'STRONTIUM', 'TOTAL INORGANIC ARSENIC',\n",
       "       'VANADIUM', 'CALCIUM ', 'CHROMIUM ', 'COPPER ', 'IODINE ', 'IRON ',\n",
       "       'MAGNESIUM ', 'MANGANESE ', 'MOLYBDENUM ', 'POTASSIUM ',\n",
       "       'PHOSPHORUS ', 'SELENIUM ', 'SODIUM ', 'ZINC ', 'ARSENIC (TOTAL) ',\n",
       "       'CADMIUM ', 'LEAD ', 'MERCURY ', 'NICKEL ', 'STRONTIUM ',\n",
       "       'URANIUM ', 'VANADIUM ', 'ANTIMONY ', 'BARIUM ', 'BERYLLIUM ',\n",
       "       'THALLIUM '], dtype=object)"
      ]
     },
     "execution_count": 52,
     "metadata": {},
     "output_type": "execute_result"
    }
   ],
   "source": [
    "df['Element']=df.Element.str.upper()\n",
    "df['Element'].unique()"
   ]
  },
  {
   "cell_type": "markdown",
   "metadata": {},
   "source": [
    "So what are the percent units data"
   ]
  },
  {
   "cell_type": "code",
   "execution_count": 53,
   "metadata": {
    "colab": {
     "base_uri": "https://localhost:8080/",
     "height": 159
    },
    "id": "_XkrEAvFrTS4",
    "outputId": "0ff4bc94-521e-4737-bd8d-9edfaa6325c1"
   },
   "outputs": [
    {
     "data": {
      "text/html": [
       "<div>\n",
       "<style scoped>\n",
       "    .dataframe tbody tr th:only-of-type {\n",
       "        vertical-align: middle;\n",
       "    }\n",
       "\n",
       "    .dataframe tbody tr th {\n",
       "        vertical-align: top;\n",
       "    }\n",
       "\n",
       "    .dataframe thead th {\n",
       "        text-align: right;\n",
       "    }\n",
       "</style>\n",
       "<table border=\"1\" class=\"dataframe\">\n",
       "  <thead>\n",
       "    <tr style=\"text-align: right;\">\n",
       "      <th></th>\n",
       "      <th>MB</th>\n",
       "      <th>Food_Name</th>\n",
       "      <th>Anal_Type</th>\n",
       "      <th>Sample_Qualifier</th>\n",
       "      <th>Replicate_No_</th>\n",
       "      <th>Element</th>\n",
       "      <th>Unit</th>\n",
       "      <th>Trace</th>\n",
       "      <th>LOD</th>\n",
       "      <th>LOQ</th>\n",
       "      <th>Result_Qualifier_and_Remarks</th>\n",
       "      <th>Method</th>\n",
       "      <th>Instrument</th>\n",
       "      <th>Batch_ID</th>\n",
       "      <th>METHOD</th>\n",
       "      <th>Food_No</th>\n",
       "      <th>ReplicateNo</th>\n",
       "      <th>Reference_Material</th>\n",
       "      <th>QC_Level</th>\n",
       "      <th>QC_Unit</th>\n",
       "      <th>QC_percent__Recvd</th>\n",
       "      <th>City_ID</th>\n",
       "      <th>Replicate_No</th>\n",
       "      <th>FiscalYear</th>\n",
       "      <th>CalendarYear</th>\n",
       "      <th>Collection</th>\n",
       "      <th>TDSFoodNumber</th>\n",
       "      <th>TDSFoodDescription</th>\n",
       "      <th>Season</th>\n",
       "      <th>TDSFoodListType</th>\n",
       "      <th>Region</th>\n",
       "      <th>ReportingLimit</th>\n",
       "      <th>Year</th>\n",
       "      <th>Market_Basket</th>\n",
       "      <th>Conc_mgkg</th>\n",
       "    </tr>\n",
       "  </thead>\n",
       "  <tbody>\n",
       "    <tr>\n",
       "      <th>14387</th>\n",
       "      <td>201102.0</td>\n",
       "      <td>MILK_WHOLE_FLUID</td>\n",
       "      <td>O</td>\n",
       "      <td>UAP</td>\n",
       "      <td></td>\n",
       "      <td>WATER (ANALYSIS FOR TOTAL DIET ONLY)</td>\n",
       "      <td>%</td>\n",
       "      <td>NaN</td>\n",
       "      <td>NaN</td>\n",
       "      <td>NaN</td>\n",
       "      <td></td>\n",
       "      <td>KCM TD KCX 2 (Microwave; Moisture; Food)</td>\n",
       "      <td>MA</td>\n",
       "      <td>2011-2</td>\n",
       "      <td>NaN</td>\n",
       "      <td>1.0</td>\n",
       "      <td>NaN</td>\n",
       "      <td>NaN</td>\n",
       "      <td>NaN</td>\n",
       "      <td>NaN</td>\n",
       "      <td>NaN</td>\n",
       "      <td>NaN</td>\n",
       "      <td>NaN</td>\n",
       "      <td>NaN</td>\n",
       "      <td>NaN</td>\n",
       "      <td>NaN</td>\n",
       "      <td>NaN</td>\n",
       "      <td>NaN</td>\n",
       "      <td>NaN</td>\n",
       "      <td>NaN</td>\n",
       "      <td>NaN</td>\n",
       "      <td>NaN</td>\n",
       "      <td>2011.0</td>\n",
       "      <td>02.0</td>\n",
       "      <td>87.0</td>\n",
       "    </tr>\n",
       "    <tr>\n",
       "      <th>14388</th>\n",
       "      <td>201102.0</td>\n",
       "      <td>MILK_LOWFAT_(2%)_FLUID</td>\n",
       "      <td>O</td>\n",
       "      <td>UAP</td>\n",
       "      <td></td>\n",
       "      <td>WATER (ANALYSIS FOR TOTAL DIET ONLY)</td>\n",
       "      <td>%</td>\n",
       "      <td>NaN</td>\n",
       "      <td>NaN</td>\n",
       "      <td>NaN</td>\n",
       "      <td></td>\n",
       "      <td>KCM TD KCX 2 (Microwave; Moisture; Food)</td>\n",
       "      <td>MA</td>\n",
       "      <td>2011-02</td>\n",
       "      <td>NaN</td>\n",
       "      <td>2.0</td>\n",
       "      <td>NaN</td>\n",
       "      <td>NaN</td>\n",
       "      <td>NaN</td>\n",
       "      <td>NaN</td>\n",
       "      <td>NaN</td>\n",
       "      <td>NaN</td>\n",
       "      <td>NaN</td>\n",
       "      <td>NaN</td>\n",
       "      <td>NaN</td>\n",
       "      <td>NaN</td>\n",
       "      <td>NaN</td>\n",
       "      <td>NaN</td>\n",
       "      <td>NaN</td>\n",
       "      <td>NaN</td>\n",
       "      <td>NaN</td>\n",
       "      <td>NaN</td>\n",
       "      <td>2011.0</td>\n",
       "      <td>02.0</td>\n",
       "      <td>88.0</td>\n",
       "    </tr>\n",
       "    <tr>\n",
       "      <th>14389</th>\n",
       "      <td>201102.0</td>\n",
       "      <td>MILK_CHOCOLATE_LOWFAT_FLUID</td>\n",
       "      <td>O</td>\n",
       "      <td>UAP</td>\n",
       "      <td></td>\n",
       "      <td>WATER (ANALYSIS FOR TOTAL DIET ONLY)</td>\n",
       "      <td>%</td>\n",
       "      <td>NaN</td>\n",
       "      <td>NaN</td>\n",
       "      <td>NaN</td>\n",
       "      <td></td>\n",
       "      <td>KCM TD KCX 2 (Microwave; Moisture; Food)</td>\n",
       "      <td>MA</td>\n",
       "      <td>2011-02</td>\n",
       "      <td>NaN</td>\n",
       "      <td>3.0</td>\n",
       "      <td>NaN</td>\n",
       "      <td>NaN</td>\n",
       "      <td>NaN</td>\n",
       "      <td>NaN</td>\n",
       "      <td>NaN</td>\n",
       "      <td>NaN</td>\n",
       "      <td>NaN</td>\n",
       "      <td>NaN</td>\n",
       "      <td>NaN</td>\n",
       "      <td>NaN</td>\n",
       "      <td>NaN</td>\n",
       "      <td>NaN</td>\n",
       "      <td>NaN</td>\n",
       "      <td>NaN</td>\n",
       "      <td>NaN</td>\n",
       "      <td>NaN</td>\n",
       "      <td>2011.0</td>\n",
       "      <td>02.0</td>\n",
       "      <td>82.0</td>\n",
       "    </tr>\n",
       "    <tr>\n",
       "      <th>14390</th>\n",
       "      <td>201102.0</td>\n",
       "      <td>MILK_SKIM_FLUID</td>\n",
       "      <td>O</td>\n",
       "      <td>UAP</td>\n",
       "      <td></td>\n",
       "      <td>WATER (ANALYSIS FOR TOTAL DIET ONLY)</td>\n",
       "      <td>%</td>\n",
       "      <td>NaN</td>\n",
       "      <td>NaN</td>\n",
       "      <td>NaN</td>\n",
       "      <td></td>\n",
       "      <td>KCM TD KCX 2 (Microwave; Moisture; Food)</td>\n",
       "      <td>MA</td>\n",
       "      <td>2011-02</td>\n",
       "      <td>NaN</td>\n",
       "      <td>4.0</td>\n",
       "      <td>NaN</td>\n",
       "      <td>NaN</td>\n",
       "      <td>NaN</td>\n",
       "      <td>NaN</td>\n",
       "      <td>NaN</td>\n",
       "      <td>NaN</td>\n",
       "      <td>NaN</td>\n",
       "      <td>NaN</td>\n",
       "      <td>NaN</td>\n",
       "      <td>NaN</td>\n",
       "      <td>NaN</td>\n",
       "      <td>NaN</td>\n",
       "      <td>NaN</td>\n",
       "      <td>NaN</td>\n",
       "      <td>NaN</td>\n",
       "      <td>NaN</td>\n",
       "      <td>2011.0</td>\n",
       "      <td>02.0</td>\n",
       "      <td>90.0</td>\n",
       "    </tr>\n",
       "    <tr>\n",
       "      <th>14391</th>\n",
       "      <td>201102.0</td>\n",
       "      <td>MILK_SHAKE_CHOCOLATE_FAST-FOOD</td>\n",
       "      <td>O</td>\n",
       "      <td>UAP</td>\n",
       "      <td></td>\n",
       "      <td>WATER (ANALYSIS FOR TOTAL DIET ONLY)</td>\n",
       "      <td>%</td>\n",
       "      <td>NaN</td>\n",
       "      <td>NaN</td>\n",
       "      <td>NaN</td>\n",
       "      <td></td>\n",
       "      <td>KCM TD KCX 2 (Microwave; Moisture; Food)</td>\n",
       "      <td>MA</td>\n",
       "      <td>2011-02</td>\n",
       "      <td>NaN</td>\n",
       "      <td>7.0</td>\n",
       "      <td>NaN</td>\n",
       "      <td>NaN</td>\n",
       "      <td>NaN</td>\n",
       "      <td>NaN</td>\n",
       "      <td>NaN</td>\n",
       "      <td>NaN</td>\n",
       "      <td>NaN</td>\n",
       "      <td>NaN</td>\n",
       "      <td>NaN</td>\n",
       "      <td>NaN</td>\n",
       "      <td>NaN</td>\n",
       "      <td>NaN</td>\n",
       "      <td>NaN</td>\n",
       "      <td>NaN</td>\n",
       "      <td>NaN</td>\n",
       "      <td>NaN</td>\n",
       "      <td>2011.0</td>\n",
       "      <td>02.0</td>\n",
       "      <td>65.6</td>\n",
       "    </tr>\n",
       "    <tr>\n",
       "      <th>...</th>\n",
       "      <td>...</td>\n",
       "      <td>...</td>\n",
       "      <td>...</td>\n",
       "      <td>...</td>\n",
       "      <td>...</td>\n",
       "      <td>...</td>\n",
       "      <td>...</td>\n",
       "      <td>...</td>\n",
       "      <td>...</td>\n",
       "      <td>...</td>\n",
       "      <td>...</td>\n",
       "      <td>...</td>\n",
       "      <td>...</td>\n",
       "      <td>...</td>\n",
       "      <td>...</td>\n",
       "      <td>...</td>\n",
       "      <td>...</td>\n",
       "      <td>...</td>\n",
       "      <td>...</td>\n",
       "      <td>...</td>\n",
       "      <td>...</td>\n",
       "      <td>...</td>\n",
       "      <td>...</td>\n",
       "      <td>...</td>\n",
       "      <td>...</td>\n",
       "      <td>...</td>\n",
       "      <td>...</td>\n",
       "      <td>...</td>\n",
       "      <td>...</td>\n",
       "      <td>...</td>\n",
       "      <td>...</td>\n",
       "      <td>...</td>\n",
       "      <td>...</td>\n",
       "      <td>...</td>\n",
       "      <td>...</td>\n",
       "    </tr>\n",
       "    <tr>\n",
       "      <th>13631</th>\n",
       "      <td>201302.0</td>\n",
       "      <td>BF_CHICKEN_WITH_RICE</td>\n",
       "      <td>O</td>\n",
       "      <td></td>\n",
       "      <td></td>\n",
       "      <td>WATER (ANALYSIS FOR TOTAL DIET ONLY)</td>\n",
       "      <td>%</td>\n",
       "      <td>NaN</td>\n",
       "      <td>NaN</td>\n",
       "      <td>NaN</td>\n",
       "      <td></td>\n",
       "      <td>KCM TD KCX 2 (Microwave; Moisture; Food)</td>\n",
       "      <td>MA</td>\n",
       "      <td>13-2</td>\n",
       "      <td>NaN</td>\n",
       "      <td>726.0</td>\n",
       "      <td>NaN</td>\n",
       "      <td>NaN</td>\n",
       "      <td>NaN</td>\n",
       "      <td>NaN</td>\n",
       "      <td>NaN</td>\n",
       "      <td>NaN</td>\n",
       "      <td>NaN</td>\n",
       "      <td>NaN</td>\n",
       "      <td>NaN</td>\n",
       "      <td>NaN</td>\n",
       "      <td>NaN</td>\n",
       "      <td>NaN</td>\n",
       "      <td>NaN</td>\n",
       "      <td>NaN</td>\n",
       "      <td>NaN</td>\n",
       "      <td>NaN</td>\n",
       "      <td>2013.0</td>\n",
       "      <td>02.0</td>\n",
       "      <td>83.5</td>\n",
       "    </tr>\n",
       "    <tr>\n",
       "      <th>13632</th>\n",
       "      <td>201302.0</td>\n",
       "      <td>BF_VEGETABLES_AND_TURKEY</td>\n",
       "      <td>O</td>\n",
       "      <td></td>\n",
       "      <td></td>\n",
       "      <td>WATER (ANALYSIS FOR TOTAL DIET ONLY)</td>\n",
       "      <td>%</td>\n",
       "      <td>NaN</td>\n",
       "      <td>NaN</td>\n",
       "      <td>NaN</td>\n",
       "      <td></td>\n",
       "      <td>KCM TD KCX 2 (Microwave; Moisture; Food)</td>\n",
       "      <td>MA</td>\n",
       "      <td>13-2</td>\n",
       "      <td>NaN</td>\n",
       "      <td>728.0</td>\n",
       "      <td>NaN</td>\n",
       "      <td>NaN</td>\n",
       "      <td>NaN</td>\n",
       "      <td>NaN</td>\n",
       "      <td>NaN</td>\n",
       "      <td>NaN</td>\n",
       "      <td>NaN</td>\n",
       "      <td>NaN</td>\n",
       "      <td>NaN</td>\n",
       "      <td>NaN</td>\n",
       "      <td>NaN</td>\n",
       "      <td>NaN</td>\n",
       "      <td>NaN</td>\n",
       "      <td>NaN</td>\n",
       "      <td>NaN</td>\n",
       "      <td>NaN</td>\n",
       "      <td>2013.0</td>\n",
       "      <td>02.0</td>\n",
       "      <td>85.2</td>\n",
       "    </tr>\n",
       "    <tr>\n",
       "      <th>13633</th>\n",
       "      <td>201302.0</td>\n",
       "      <td>BF_MACARONI_AND_CHEESE</td>\n",
       "      <td>O</td>\n",
       "      <td></td>\n",
       "      <td></td>\n",
       "      <td>WATER (ANALYSIS FOR TOTAL DIET ONLY)</td>\n",
       "      <td>%</td>\n",
       "      <td>NaN</td>\n",
       "      <td>NaN</td>\n",
       "      <td>NaN</td>\n",
       "      <td></td>\n",
       "      <td>KCM TD KCX 2 (Microwave; Moisture; Food)</td>\n",
       "      <td>MA</td>\n",
       "      <td>13-2</td>\n",
       "      <td>NaN</td>\n",
       "      <td>729.0</td>\n",
       "      <td>NaN</td>\n",
       "      <td>NaN</td>\n",
       "      <td>NaN</td>\n",
       "      <td>NaN</td>\n",
       "      <td>NaN</td>\n",
       "      <td>NaN</td>\n",
       "      <td>NaN</td>\n",
       "      <td>NaN</td>\n",
       "      <td>NaN</td>\n",
       "      <td>NaN</td>\n",
       "      <td>NaN</td>\n",
       "      <td>NaN</td>\n",
       "      <td>NaN</td>\n",
       "      <td>NaN</td>\n",
       "      <td>NaN</td>\n",
       "      <td>NaN</td>\n",
       "      <td>2013.0</td>\n",
       "      <td>02.0</td>\n",
       "      <td>83.3</td>\n",
       "    </tr>\n",
       "    <tr>\n",
       "      <th>13634</th>\n",
       "      <td>201302.0</td>\n",
       "      <td>BF._APPLES_WITH_BERRIES</td>\n",
       "      <td>O</td>\n",
       "      <td></td>\n",
       "      <td></td>\n",
       "      <td>WATER (ANALYSIS FOR TOTAL DIET ONLY)</td>\n",
       "      <td>%</td>\n",
       "      <td>NaN</td>\n",
       "      <td>NaN</td>\n",
       "      <td>NaN</td>\n",
       "      <td></td>\n",
       "      <td>KCM TD KCX 2 (Microwave; Moisture; Food)</td>\n",
       "      <td>MA</td>\n",
       "      <td>13-2</td>\n",
       "      <td>NaN</td>\n",
       "      <td>730.0</td>\n",
       "      <td>NaN</td>\n",
       "      <td>NaN</td>\n",
       "      <td>NaN</td>\n",
       "      <td>NaN</td>\n",
       "      <td>NaN</td>\n",
       "      <td>NaN</td>\n",
       "      <td>NaN</td>\n",
       "      <td>NaN</td>\n",
       "      <td>NaN</td>\n",
       "      <td>NaN</td>\n",
       "      <td>NaN</td>\n",
       "      <td>NaN</td>\n",
       "      <td>NaN</td>\n",
       "      <td>NaN</td>\n",
       "      <td>NaN</td>\n",
       "      <td>NaN</td>\n",
       "      <td>2013.0</td>\n",
       "      <td>02.0</td>\n",
       "      <td>85.5</td>\n",
       "    </tr>\n",
       "    <tr>\n",
       "      <th>13635</th>\n",
       "      <td>201302.0</td>\n",
       "      <td>BF_APPLES_WITH_FRUIT_OTHER_THAN_BERRIES</td>\n",
       "      <td>O</td>\n",
       "      <td></td>\n",
       "      <td></td>\n",
       "      <td>WATER (ANALYSIS FOR TOTAL DIET ONLY)</td>\n",
       "      <td>%</td>\n",
       "      <td>NaN</td>\n",
       "      <td>NaN</td>\n",
       "      <td>NaN</td>\n",
       "      <td></td>\n",
       "      <td>KCM TD KCX 2 (Microwave; Moisture; Food)</td>\n",
       "      <td>MA</td>\n",
       "      <td>13-2</td>\n",
       "      <td>NaN</td>\n",
       "      <td>731.0</td>\n",
       "      <td>NaN</td>\n",
       "      <td>NaN</td>\n",
       "      <td>NaN</td>\n",
       "      <td>NaN</td>\n",
       "      <td>NaN</td>\n",
       "      <td>NaN</td>\n",
       "      <td>NaN</td>\n",
       "      <td>NaN</td>\n",
       "      <td>NaN</td>\n",
       "      <td>NaN</td>\n",
       "      <td>NaN</td>\n",
       "      <td>NaN</td>\n",
       "      <td>NaN</td>\n",
       "      <td>NaN</td>\n",
       "      <td>NaN</td>\n",
       "      <td>NaN</td>\n",
       "      <td>2013.0</td>\n",
       "      <td>02.0</td>\n",
       "      <td>83.1</td>\n",
       "    </tr>\n",
       "  </tbody>\n",
       "</table>\n",
       "<p>800 rows × 35 columns</p>\n",
       "</div>"
      ],
      "text/plain": [
       "             MB                                Food_Name Anal_Type  \\\n",
       "14387  201102.0                         MILK_WHOLE_FLUID         O   \n",
       "14388  201102.0                   MILK_LOWFAT_(2%)_FLUID         O   \n",
       "14389  201102.0              MILK_CHOCOLATE_LOWFAT_FLUID         O   \n",
       "14390  201102.0                          MILK_SKIM_FLUID         O   \n",
       "14391  201102.0           MILK_SHAKE_CHOCOLATE_FAST-FOOD         O   \n",
       "...         ...                                      ...       ...   \n",
       "13631  201302.0                     BF_CHICKEN_WITH_RICE         O   \n",
       "13632  201302.0                 BF_VEGETABLES_AND_TURKEY         O   \n",
       "13633  201302.0                   BF_MACARONI_AND_CHEESE         O   \n",
       "13634  201302.0                  BF._APPLES_WITH_BERRIES         O   \n",
       "13635  201302.0  BF_APPLES_WITH_FRUIT_OTHER_THAN_BERRIES         O   \n",
       "\n",
       "      Sample_Qualifier Replicate_No_                               Element  \\\n",
       "14387             UAP                 WATER (ANALYSIS FOR TOTAL DIET ONLY)   \n",
       "14388             UAP                 WATER (ANALYSIS FOR TOTAL DIET ONLY)   \n",
       "14389             UAP                 WATER (ANALYSIS FOR TOTAL DIET ONLY)   \n",
       "14390             UAP                 WATER (ANALYSIS FOR TOTAL DIET ONLY)   \n",
       "14391             UAP                 WATER (ANALYSIS FOR TOTAL DIET ONLY)   \n",
       "...                ...           ...                                   ...   \n",
       "13631                                 WATER (ANALYSIS FOR TOTAL DIET ONLY)   \n",
       "13632                                 WATER (ANALYSIS FOR TOTAL DIET ONLY)   \n",
       "13633                                 WATER (ANALYSIS FOR TOTAL DIET ONLY)   \n",
       "13634                                 WATER (ANALYSIS FOR TOTAL DIET ONLY)   \n",
       "13635                                 WATER (ANALYSIS FOR TOTAL DIET ONLY)   \n",
       "\n",
       "      Unit Trace  LOD  LOQ Result_Qualifier_and_Remarks  \\\n",
       "14387    %   NaN  NaN  NaN                                \n",
       "14388    %   NaN  NaN  NaN                                \n",
       "14389    %   NaN  NaN  NaN                                \n",
       "14390    %   NaN  NaN  NaN                                \n",
       "14391    %   NaN  NaN  NaN                                \n",
       "...    ...   ...  ...  ...                          ...   \n",
       "13631    %   NaN  NaN  NaN                                \n",
       "13632    %   NaN  NaN  NaN                                \n",
       "13633    %   NaN  NaN  NaN                                \n",
       "13634    %   NaN  NaN  NaN                                \n",
       "13635    %   NaN  NaN  NaN                                \n",
       "\n",
       "                                          Method Instrument  Batch_ID METHOD  \\\n",
       "14387  KCM TD KCX 2 (Microwave; Moisture; Food)          MA   2011-2     NaN   \n",
       "14388  KCM TD KCX 2 (Microwave; Moisture; Food)          MA  2011-02     NaN   \n",
       "14389  KCM TD KCX 2 (Microwave; Moisture; Food)          MA  2011-02     NaN   \n",
       "14390  KCM TD KCX 2 (Microwave; Moisture; Food)          MA  2011-02     NaN   \n",
       "14391  KCM TD KCX 2 (Microwave; Moisture; Food)          MA  2011-02     NaN   \n",
       "...                                          ...        ...       ...    ...   \n",
       "13631  KCM TD KCX 2 (Microwave; Moisture; Food)          MA     13-2     NaN   \n",
       "13632  KCM TD KCX 2 (Microwave; Moisture; Food)          MA     13-2     NaN   \n",
       "13633  KCM TD KCX 2 (Microwave; Moisture; Food)          MA     13-2     NaN   \n",
       "13634  KCM TD KCX 2 (Microwave; Moisture; Food)          MA     13-2     NaN   \n",
       "13635  KCM TD KCX 2 (Microwave; Moisture; Food)          MA     13-2     NaN   \n",
       "\n",
       "       Food_No ReplicateNo Reference_Material QC_Level QC_Unit  \\\n",
       "14387      1.0         NaN                NaN      NaN     NaN   \n",
       "14388      2.0         NaN                NaN      NaN     NaN   \n",
       "14389      3.0         NaN                NaN      NaN     NaN   \n",
       "14390      4.0         NaN                NaN      NaN     NaN   \n",
       "14391      7.0         NaN                NaN      NaN     NaN   \n",
       "...        ...         ...                ...      ...     ...   \n",
       "13631    726.0         NaN                NaN      NaN     NaN   \n",
       "13632    728.0         NaN                NaN      NaN     NaN   \n",
       "13633    729.0         NaN                NaN      NaN     NaN   \n",
       "13634    730.0         NaN                NaN      NaN     NaN   \n",
       "13635    731.0         NaN                NaN      NaN     NaN   \n",
       "\n",
       "      QC_percent__Recvd City_ID  Replicate_No  FiscalYear  CalendarYear  \\\n",
       "14387               NaN     NaN           NaN         NaN           NaN   \n",
       "14388               NaN     NaN           NaN         NaN           NaN   \n",
       "14389               NaN     NaN           NaN         NaN           NaN   \n",
       "14390               NaN     NaN           NaN         NaN           NaN   \n",
       "14391               NaN     NaN           NaN         NaN           NaN   \n",
       "...                 ...     ...           ...         ...           ...   \n",
       "13631               NaN     NaN           NaN         NaN           NaN   \n",
       "13632               NaN     NaN           NaN         NaN           NaN   \n",
       "13633               NaN     NaN           NaN         NaN           NaN   \n",
       "13634               NaN     NaN           NaN         NaN           NaN   \n",
       "13635               NaN     NaN           NaN         NaN           NaN   \n",
       "\n",
       "       Collection  TDSFoodNumber TDSFoodDescription Season TDSFoodListType  \\\n",
       "14387         NaN            NaN                NaN    NaN             NaN   \n",
       "14388         NaN            NaN                NaN    NaN             NaN   \n",
       "14389         NaN            NaN                NaN    NaN             NaN   \n",
       "14390         NaN            NaN                NaN    NaN             NaN   \n",
       "14391         NaN            NaN                NaN    NaN             NaN   \n",
       "...           ...            ...                ...    ...             ...   \n",
       "13631         NaN            NaN                NaN    NaN             NaN   \n",
       "13632         NaN            NaN                NaN    NaN             NaN   \n",
       "13633         NaN            NaN                NaN    NaN             NaN   \n",
       "13634         NaN            NaN                NaN    NaN             NaN   \n",
       "13635         NaN            NaN                NaN    NaN             NaN   \n",
       "\n",
       "      Region  ReportingLimit    Year Market_Basket  Conc_mgkg  \n",
       "14387    NaN             NaN  2011.0          02.0       87.0  \n",
       "14388    NaN             NaN  2011.0          02.0       88.0  \n",
       "14389    NaN             NaN  2011.0          02.0       82.0  \n",
       "14390    NaN             NaN  2011.0          02.0       90.0  \n",
       "14391    NaN             NaN  2011.0          02.0       65.6  \n",
       "...      ...             ...     ...           ...        ...  \n",
       "13631    NaN             NaN  2013.0          02.0       83.5  \n",
       "13632    NaN             NaN  2013.0          02.0       85.2  \n",
       "13633    NaN             NaN  2013.0          02.0       83.3  \n",
       "13634    NaN             NaN  2013.0          02.0       85.5  \n",
       "13635    NaN             NaN  2013.0          02.0       83.1  \n",
       "\n",
       "[800 rows x 35 columns]"
      ]
     },
     "execution_count": 53,
     "metadata": {},
     "output_type": "execute_result"
    }
   ],
   "source": [
    "df_percent = df.query('Unit == \"%\"').copy()\n",
    "df_percent"
   ]
  },
  {
   "cell_type": "markdown",
   "metadata": {},
   "source": [
    "Looks like all the % entries are water analysis. How is there conc_mgkg? It's just percent but didnt include that in the if else we want to filter for everything else."
   ]
  },
  {
   "cell_type": "markdown",
   "metadata": {},
   "source": [
    "# Final Filtering for Data We Are Interested In"
   ]
  },
  {
   "cell_type": "code",
   "execution_count": 54,
   "metadata": {
    "colab": {
     "base_uri": "https://localhost:8080/",
     "height": 530
    },
    "id": "kqgZ9N7C8q02",
    "outputId": "8713b7e3-7e48-490c-fc31-529d86727afb"
   },
   "outputs": [],
   "source": [
    "df=df.query('Unit != \"%\"').copy()"
   ]
  },
  {
   "cell_type": "code",
   "execution_count": 55,
   "metadata": {
    "id": "tYEcsRom96G-"
   },
   "outputs": [],
   "source": [
    "elements = ['ARSENIC', 'CADMIUM', 'CALCIUM', 'COPPER', 'IRON', 'LEAD',\n",
    "       'MAGNESIUM', 'PHOSPHORUS', 'POTASSIUM', 'SELENIUM', 'MERCURY',\n",
    "       'SODIUM', 'ZINC', 'MANGANESE', 'NICKEL', 'MOLYBDENUM', 'BARIUM', 'CHROMIUM',\n",
    "\n",
    "       'THALLIUM',\n",
    "       'STRONTIUM',\n",
    "       ]"
   ]
  },
  {
   "cell_type": "code",
   "execution_count": 56,
   "metadata": {},
   "outputs": [
    {
     "data": {
      "text/plain": [
       "['ARSENIC',\n",
       " 'CADMIUM',\n",
       " 'CALCIUM',\n",
       " 'COPPER',\n",
       " 'IRON',\n",
       " 'LEAD',\n",
       " 'MAGNESIUM',\n",
       " 'PHOSPHORUS',\n",
       " 'POTASSIUM',\n",
       " 'SELENIUM',\n",
       " 'MERCURY',\n",
       " 'SODIUM',\n",
       " 'ZINC',\n",
       " 'MANGANESE',\n",
       " 'NICKEL',\n",
       " 'MOLYBDENUM',\n",
       " 'BARIUM',\n",
       " 'CHROMIUM',\n",
       " 'THALLIUM',\n",
       " 'STRONTIUM']"
      ]
     },
     "execution_count": 56,
     "metadata": {},
     "output_type": "execute_result"
    }
   ],
   "source": [
    "elements"
   ]
  },
  {
   "cell_type": "markdown",
   "metadata": {},
   "source": [
    "And we filter down to include the elements of interest"
   ]
  },
  {
   "cell_type": "code",
   "execution_count": 57,
   "metadata": {
    "colab": {
     "base_uri": "https://localhost:8080/",
     "height": 513
    },
    "id": "qU8woxG0-XWf",
    "outputId": "dcc06123-785b-4531-c895-e0bad28b8097"
   },
   "outputs": [],
   "source": [
    "df = df[df['Element'].isin(elements)].copy()"
   ]
  },
  {
   "cell_type": "code",
   "execution_count": 58,
   "metadata": {},
   "outputs": [
    {
     "data": {
      "text/plain": [
       "Index(['MB', 'Food_Name', 'Anal_Type', 'Sample_Qualifier', 'Replicate_No_',\n",
       "       'Element', 'Unit', 'Trace', 'LOD', 'LOQ',\n",
       "       'Result_Qualifier_and_Remarks', 'Method', 'Instrument', 'Batch_ID',\n",
       "       'METHOD', 'Food_No', 'ReplicateNo', 'Reference_Material', 'QC_Level',\n",
       "       'QC_Unit', 'QC_percent__Recvd', 'City_ID', 'Replicate_No', 'FiscalYear',\n",
       "       'CalendarYear', 'Collection', 'TDSFoodNumber', 'TDSFoodDescription',\n",
       "       'Season', 'TDSFoodListType', 'Region', 'ReportingLimit', 'Year',\n",
       "       'Market_Basket', 'Conc_mgkg'],\n",
       "      dtype='object')"
      ]
     },
     "execution_count": 58,
     "metadata": {},
     "output_type": "execute_result"
    }
   ],
   "source": [
    "df.columns"
   ]
  },
  {
   "cell_type": "code",
   "execution_count": 59,
   "metadata": {},
   "outputs": [
    {
     "data": {
      "text/plain": [
       "(353956, 35)"
      ]
     },
     "execution_count": 59,
     "metadata": {},
     "output_type": "execute_result"
    }
   ],
   "source": [
    "df.shape"
   ]
  },
  {
   "cell_type": "markdown",
   "metadata": {},
   "source": [
    "To understand what the columns are referring to see https://www.fda.gov/food/fda-total-diet-study-tds/fda-total-diet-study-tds-results and https://www.fda.gov/media/93359/download?attachment. A screengrab of the column keys is at the top of this notebook."
   ]
  },
  {
   "cell_type": "markdown",
   "metadata": {},
   "source": [
    "After working with the features let's see what is still missing in the data"
   ]
  },
  {
   "cell_type": "code",
   "execution_count": 60,
   "metadata": {},
   "outputs": [
    {
     "data": {
      "text/plain": [
       "MB                                   0\n",
       "Food_Name                            0\n",
       "Anal_Type                            0\n",
       "Sample_Qualifier                241091\n",
       "Replicate_No_                   284074\n",
       "Element                              0\n",
       "Unit                                 0\n",
       "Trace                           298778\n",
       "LOD                               1030\n",
       "LOQ                               1030\n",
       "Result_Qualifier_and_Remarks    254815\n",
       "Method                           74167\n",
       "Instrument                           2\n",
       "Batch_ID                        114586\n",
       "METHOD                          279791\n",
       "Food_No                              0\n",
       "ReplicateNo                     340574\n",
       "Reference_Material              340574\n",
       "QC_Level                        340574\n",
       "QC_Unit                         340574\n",
       "QC_percent__Recvd               340574\n",
       "City_ID                         353954\n",
       "Replicate_No                    353650\n",
       "FiscalYear                      353956\n",
       "CalendarYear                    353956\n",
       "Collection                      353956\n",
       "TDSFoodNumber                   353956\n",
       "TDSFoodDescription              353956\n",
       "Season                          353956\n",
       "TDSFoodListType                 353956\n",
       "Region                          353956\n",
       "ReportingLimit                  353956\n",
       "Year                                 0\n",
       "Market_Basket                        0\n",
       "Conc_mgkg                            0\n",
       "dtype: int64"
      ]
     },
     "execution_count": 60,
     "metadata": {},
     "output_type": "execute_result"
    }
   ],
   "source": [
    "df.isnull().sum()"
   ]
  },
  {
   "cell_type": "markdown",
   "metadata": {},
   "source": [
    "What are the missing LOD entries?"
   ]
  },
  {
   "cell_type": "code",
   "execution_count": 61,
   "metadata": {},
   "outputs": [
    {
     "data": {
      "text/plain": [
       "array(['NICKEL', 'MERCURY', 'MOLYBDENUM', 'ARSENIC'], dtype=object)"
      ]
     },
     "execution_count": 61,
     "metadata": {},
     "output_type": "execute_result"
    }
   ],
   "source": [
    "df[df.LOQ.isnull()].Element.unique()"
   ]
  },
  {
   "cell_type": "code",
   "execution_count": 62,
   "metadata": {},
   "outputs": [
    {
     "data": {
      "text/plain": [
       "array([nan, 'FDA EAM Method 4.7 (ICPMS;  As, Cd, Cr, Hg, Pb; Food) ',\n",
       "       'KCM TD M2 & E1 (CA, CU,FE, MG, MN, P, K, NA, ZN IN FOOD BY ACID DIGESTION) ',\n",
       "       'KCM TD M2 & E5 (AS & SE IN FOOD BY ACID DIGEST. HYDRIDE AA) '],\n",
       "      dtype=object)"
      ]
     },
     "execution_count": 62,
     "metadata": {},
     "output_type": "execute_result"
    }
   ],
   "source": [
    "df[df.LOQ.isnull()].Method.unique()"
   ]
  },
  {
   "cell_type": "markdown",
   "metadata": {},
   "source": [
    "I'm not familiar with these methods are so we are going to explude them and filter for when there is an entry for LOQ"
   ]
  },
  {
   "cell_type": "code",
   "execution_count": 63,
   "metadata": {},
   "outputs": [],
   "source": [
    "df = df[~df.LOQ.isnull()].copy()"
   ]
  },
  {
   "cell_type": "code",
   "execution_count": 64,
   "metadata": {},
   "outputs": [
    {
     "data": {
      "text/plain": [
       "(352926, 35)"
      ]
     },
     "execution_count": 64,
     "metadata": {},
     "output_type": "execute_result"
    }
   ],
   "source": [
    "df.shape"
   ]
  },
  {
   "cell_type": "markdown",
   "metadata": {},
   "source": [
    "Food Types"
   ]
  },
  {
   "cell_type": "code",
   "execution_count": 65,
   "metadata": {},
   "outputs": [
    {
     "data": {
      "text/html": [
       "<div>\n",
       "<style scoped>\n",
       "    .dataframe tbody tr th:only-of-type {\n",
       "        vertical-align: middle;\n",
       "    }\n",
       "\n",
       "    .dataframe tbody tr th {\n",
       "        vertical-align: top;\n",
       "    }\n",
       "\n",
       "    .dataframe thead th {\n",
       "        text-align: right;\n",
       "    }\n",
       "</style>\n",
       "<table border=\"1\" class=\"dataframe\">\n",
       "  <thead>\n",
       "    <tr style=\"text-align: right;\">\n",
       "      <th></th>\n",
       "      <th>Food_Name</th>\n",
       "      <th>Food_No</th>\n",
       "    </tr>\n",
       "  </thead>\n",
       "  <tbody>\n",
       "    <tr>\n",
       "      <th>0</th>\n",
       "      <td>WHOLE_MILK_FLUID</td>\n",
       "      <td>1.0</td>\n",
       "    </tr>\n",
       "    <tr>\n",
       "      <th>1</th>\n",
       "      <td>LOWFAT_(2%_FAT)_MILK_FLUID</td>\n",
       "      <td>2.0</td>\n",
       "    </tr>\n",
       "    <tr>\n",
       "      <th>2</th>\n",
       "      <td>CHOCOLATE_MILK_FLUID</td>\n",
       "      <td>3.0</td>\n",
       "    </tr>\n",
       "    <tr>\n",
       "      <th>3</th>\n",
       "      <td>SKIM_MILK_FLUID</td>\n",
       "      <td>4.0</td>\n",
       "    </tr>\n",
       "    <tr>\n",
       "      <th>4</th>\n",
       "      <td>PLAIN_YOGURT_LOWFAT</td>\n",
       "      <td>6.0</td>\n",
       "    </tr>\n",
       "    <tr>\n",
       "      <th>...</th>\n",
       "      <td>...</td>\n",
       "      <td>...</td>\n",
       "    </tr>\n",
       "    <tr>\n",
       "      <th>550</th>\n",
       "      <td>TORTILLA_CORN</td>\n",
       "      <td>400.0</td>\n",
       "    </tr>\n",
       "    <tr>\n",
       "      <th>551</th>\n",
       "      <td>BREAD_WHITE_ROLL/BUN_(HAMBURGER/HOTDOG)</td>\n",
       "      <td>401.0</td>\n",
       "    </tr>\n",
       "    <tr>\n",
       "      <th>552</th>\n",
       "      <td>RICE_BROWN_COOKED</td>\n",
       "      <td>402.0</td>\n",
       "    </tr>\n",
       "    <tr>\n",
       "      <th>553</th>\n",
       "      <td>WALNUTS_SHELLED</td>\n",
       "      <td>403.0</td>\n",
       "    </tr>\n",
       "    <tr>\n",
       "      <th>554</th>\n",
       "      <td>PIZZA_CHEESE_FAST-FOOD</td>\n",
       "      <td>404.0</td>\n",
       "    </tr>\n",
       "  </tbody>\n",
       "</table>\n",
       "<p>555 rows × 2 columns</p>\n",
       "</div>"
      ],
      "text/plain": [
       "                                   Food_Name  Food_No\n",
       "0                           WHOLE_MILK_FLUID      1.0\n",
       "1                 LOWFAT_(2%_FAT)_MILK_FLUID      2.0\n",
       "2                       CHOCOLATE_MILK_FLUID      3.0\n",
       "3                            SKIM_MILK_FLUID      4.0\n",
       "4                        PLAIN_YOGURT_LOWFAT      6.0\n",
       "..                                       ...      ...\n",
       "550                            TORTILLA_CORN    400.0\n",
       "551  BREAD_WHITE_ROLL/BUN_(HAMBURGER/HOTDOG)    401.0\n",
       "552                        RICE_BROWN_COOKED    402.0\n",
       "553                          WALNUTS_SHELLED    403.0\n",
       "554                   PIZZA_CHEESE_FAST-FOOD    404.0\n",
       "\n",
       "[555 rows x 2 columns]"
      ]
     },
     "execution_count": 65,
     "metadata": {},
     "output_type": "execute_result"
    }
   ],
   "source": [
    "df[['Food_Name', 'Food_No']].drop_duplicates().reset_index(drop=True)"
   ]
  },
  {
   "cell_type": "markdown",
   "metadata": {},
   "source": [
    "Selecting variables of interest"
   ]
  },
  {
   "cell_type": "code",
   "execution_count": 66,
   "metadata": {},
   "outputs": [
    {
     "data": {
      "text/html": [
       "<div>\n",
       "<style scoped>\n",
       "    .dataframe tbody tr th:only-of-type {\n",
       "        vertical-align: middle;\n",
       "    }\n",
       "\n",
       "    .dataframe tbody tr th {\n",
       "        vertical-align: top;\n",
       "    }\n",
       "\n",
       "    .dataframe thead th {\n",
       "        text-align: right;\n",
       "    }\n",
       "</style>\n",
       "<table border=\"1\" class=\"dataframe\">\n",
       "  <thead>\n",
       "    <tr style=\"text-align: right;\">\n",
       "      <th></th>\n",
       "      <th>Food_Name</th>\n",
       "      <th>Food_No</th>\n",
       "      <th>LOD</th>\n",
       "      <th>LOQ</th>\n",
       "      <th>Conc_mgkg</th>\n",
       "      <th>Element</th>\n",
       "      <th>Method</th>\n",
       "      <th>Instrument</th>\n",
       "      <th>MB</th>\n",
       "      <th>Year</th>\n",
       "      <th>Market_Basket</th>\n",
       "    </tr>\n",
       "  </thead>\n",
       "  <tbody>\n",
       "    <tr>\n",
       "      <th>14490</th>\n",
       "      <td>BF_VEGETABLES_AND_BEEF</td>\n",
       "      <td>211.0</td>\n",
       "      <td>0.020</td>\n",
       "      <td>0.050</td>\n",
       "      <td>0.192</td>\n",
       "      <td>NICKEL</td>\n",
       "      <td>NaN</td>\n",
       "      <td>GFAAS</td>\n",
       "      <td>201004.0</td>\n",
       "      <td>2010.0</td>\n",
       "      <td>04.0</td>\n",
       "    </tr>\n",
       "    <tr>\n",
       "      <th>16979</th>\n",
       "      <td>BF_TURKEY_AND_BROTH/GRAVY</td>\n",
       "      <td>328.0</td>\n",
       "      <td>0.198</td>\n",
       "      <td>1.780</td>\n",
       "      <td>13.500</td>\n",
       "      <td>ZINC</td>\n",
       "      <td>FDA EAM Method 4.4 (ICPAES; Multielement; Food</td>\n",
       "      <td>ICPAES</td>\n",
       "      <td>201603.0</td>\n",
       "      <td>2016.0</td>\n",
       "      <td>03.0</td>\n",
       "    </tr>\n",
       "    <tr>\n",
       "      <th>14733</th>\n",
       "      <td>BF_INFANT_FORMULA_SOY-BASED_RTF</td>\n",
       "      <td>309.0</td>\n",
       "      <td>8.000</td>\n",
       "      <td>30.000</td>\n",
       "      <td>1730.000</td>\n",
       "      <td>POTASSIUM</td>\n",
       "      <td>NaN</td>\n",
       "      <td>ICPAES</td>\n",
       "      <td>200804.0</td>\n",
       "      <td>2008.0</td>\n",
       "      <td>04.0</td>\n",
       "    </tr>\n",
       "    <tr>\n",
       "      <th>13394</th>\n",
       "      <td>PEAS_STRAINED/JUNIOR</td>\n",
       "      <td>223.0</td>\n",
       "      <td>0.002</td>\n",
       "      <td>0.005</td>\n",
       "      <td>0.002</td>\n",
       "      <td>CADMIUM</td>\n",
       "      <td>KCM TD M5 &amp; E2 (GFAAS; Cd, Ni &amp; Pb; Food)</td>\n",
       "      <td>GFAAS</td>\n",
       "      <td>200004.0</td>\n",
       "      <td>2000.0</td>\n",
       "      <td>04.0</td>\n",
       "    </tr>\n",
       "    <tr>\n",
       "      <th>12429</th>\n",
       "      <td>BOLOGNA_(BEEF/PORK)</td>\n",
       "      <td>29.0</td>\n",
       "      <td>10.000</td>\n",
       "      <td>40.000</td>\n",
       "      <td>2110.000</td>\n",
       "      <td>POTASSIUM</td>\n",
       "      <td>KCM TD M2 &amp; E1 (CA, CU,FE, MG, MN, P, K, NA, Z...</td>\n",
       "      <td>ICPAES</td>\n",
       "      <td>201101.0</td>\n",
       "      <td>2011.0</td>\n",
       "      <td>01.0</td>\n",
       "    </tr>\n",
       "  </tbody>\n",
       "</table>\n",
       "</div>"
      ],
      "text/plain": [
       "                             Food_Name  Food_No     LOD     LOQ  Conc_mgkg  \\\n",
       "14490           BF_VEGETABLES_AND_BEEF    211.0   0.020   0.050      0.192   \n",
       "16979        BF_TURKEY_AND_BROTH/GRAVY    328.0   0.198   1.780     13.500   \n",
       "14733  BF_INFANT_FORMULA_SOY-BASED_RTF    309.0   8.000  30.000   1730.000   \n",
       "13394             PEAS_STRAINED/JUNIOR    223.0   0.002   0.005      0.002   \n",
       "12429              BOLOGNA_(BEEF/PORK)     29.0  10.000  40.000   2110.000   \n",
       "\n",
       "         Element                                             Method  \\\n",
       "14490     NICKEL                                                NaN   \n",
       "16979       ZINC    FDA EAM Method 4.4 (ICPAES; Multielement; Food    \n",
       "14733  POTASSIUM                                                NaN   \n",
       "13394    CADMIUM          KCM TD M5 & E2 (GFAAS; Cd, Ni & Pb; Food)   \n",
       "12429  POTASSIUM  KCM TD M2 & E1 (CA, CU,FE, MG, MN, P, K, NA, Z...   \n",
       "\n",
       "      Instrument        MB    Year Market_Basket  \n",
       "14490      GFAAS  201004.0  2010.0          04.0  \n",
       "16979     ICPAES  201603.0  2016.0          03.0  \n",
       "14733     ICPAES  200804.0  2008.0          04.0  \n",
       "13394      GFAAS  200004.0  2000.0          04.0  \n",
       "12429     ICPAES  201101.0  2011.0          01.0  "
      ]
     },
     "execution_count": 66,
     "metadata": {},
     "output_type": "execute_result"
    }
   ],
   "source": [
    "df_select = \\\n",
    "df[['Food_Name',\n",
    "    'Food_No',\n",
    "   'LOD',\n",
    "   'LOQ',\n",
    "   'Conc_mgkg',\n",
    "    'Element',\n",
    "    'Method',\n",
    "   'Instrument',\n",
    "    'MB',\n",
    "    'Year',\n",
    "    'Market_Basket']]\n",
    "\n",
    "df_select.sample(5)"
   ]
  },
  {
   "cell_type": "markdown",
   "metadata": {},
   "source": [
    "For each food for each element, what are the counts"
   ]
  },
  {
   "cell_type": "code",
   "execution_count": 67,
   "metadata": {},
   "outputs": [
    {
     "name": "stderr",
     "output_type": "stream",
     "text": [
      "C:\\Users\\carte\\AppData\\Local\\Temp\\ipykernel_17092\\3062562691.py:1: SettingWithCopyWarning: \n",
      "A value is trying to be set on a copy of a slice from a DataFrame.\n",
      "Try using .loc[row_indexer,col_indexer] = value instead\n",
      "\n",
      "See the caveats in the documentation: https://pandas.pydata.org/pandas-docs/stable/user_guide/indexing.html#returning-a-view-versus-a-copy\n",
      "  df_select['conc_indicator'] = \\\n"
     ]
    }
   ],
   "source": [
    "df_select['conc_indicator'] = \\\n",
    "df_select.apply(lambda row: '> LOQ' if row['Conc_mgkg'] > row['LOQ']\\\n",
    "                else ('trace' if row['Conc_mgkg'] <= row['LOQ'] and row['Conc_mgkg'] > row['LOD']\\\n",
    "                      else '< LOD')\n",
    "                , axis=1)"
   ]
  },
  {
   "cell_type": "code",
   "execution_count": 68,
   "metadata": {},
   "outputs": [
    {
     "data": {
      "text/html": [
       "<div>\n",
       "<style scoped>\n",
       "    .dataframe tbody tr th:only-of-type {\n",
       "        vertical-align: middle;\n",
       "    }\n",
       "\n",
       "    .dataframe tbody tr th {\n",
       "        vertical-align: top;\n",
       "    }\n",
       "\n",
       "    .dataframe thead th {\n",
       "        text-align: right;\n",
       "    }\n",
       "</style>\n",
       "<table border=\"1\" class=\"dataframe\">\n",
       "  <thead>\n",
       "    <tr style=\"text-align: right;\">\n",
       "      <th></th>\n",
       "      <th>Food_Name</th>\n",
       "      <th>Food_No</th>\n",
       "      <th>LOD</th>\n",
       "      <th>LOQ</th>\n",
       "      <th>Conc_mgkg</th>\n",
       "      <th>Element</th>\n",
       "      <th>Method</th>\n",
       "      <th>Instrument</th>\n",
       "      <th>MB</th>\n",
       "      <th>Year</th>\n",
       "      <th>Market_Basket</th>\n",
       "      <th>conc_indicator</th>\n",
       "    </tr>\n",
       "  </thead>\n",
       "  <tbody>\n",
       "    <tr>\n",
       "      <th>0</th>\n",
       "      <td>WHOLE_MILK_FLUID</td>\n",
       "      <td>1.0</td>\n",
       "      <td>0.050</td>\n",
       "      <td>0.140</td>\n",
       "      <td>0.00</td>\n",
       "      <td>ARSENIC</td>\n",
       "      <td>LIB 1900 &amp; Anal. Chem. (1976) 48, 120</td>\n",
       "      <td>HGAAS</td>\n",
       "      <td>199103.0</td>\n",
       "      <td>1991.0</td>\n",
       "      <td>03.0</td>\n",
       "      <td>&lt; LOD</td>\n",
       "    </tr>\n",
       "    <tr>\n",
       "      <th>1</th>\n",
       "      <td>WHOLE_MILK_FLUID</td>\n",
       "      <td>1.0</td>\n",
       "      <td>0.002</td>\n",
       "      <td>0.005</td>\n",
       "      <td>0.00</td>\n",
       "      <td>CADMIUM</td>\n",
       "      <td>LIB 2403 (Modified)</td>\n",
       "      <td>GFAAS</td>\n",
       "      <td>199103.0</td>\n",
       "      <td>1991.0</td>\n",
       "      <td>03.0</td>\n",
       "      <td>&lt; LOD</td>\n",
       "    </tr>\n",
       "    <tr>\n",
       "      <th>2</th>\n",
       "      <td>WHOLE_MILK_FLUID</td>\n",
       "      <td>1.0</td>\n",
       "      <td>3.000</td>\n",
       "      <td>10.000</td>\n",
       "      <td>261.00</td>\n",
       "      <td>CALCIUM</td>\n",
       "      <td>SARAP Project #10579</td>\n",
       "      <td>ICPAES</td>\n",
       "      <td>199103.0</td>\n",
       "      <td>1991.0</td>\n",
       "      <td>03.0</td>\n",
       "      <td>&gt; LOQ</td>\n",
       "    </tr>\n",
       "    <tr>\n",
       "      <th>3</th>\n",
       "      <td>WHOLE_MILK_FLUID</td>\n",
       "      <td>1.0</td>\n",
       "      <td>0.250</td>\n",
       "      <td>0.900</td>\n",
       "      <td>0.00</td>\n",
       "      <td>COPPER</td>\n",
       "      <td>SARAP Project #10579</td>\n",
       "      <td>ICPAES</td>\n",
       "      <td>199103.0</td>\n",
       "      <td>1991.0</td>\n",
       "      <td>03.0</td>\n",
       "      <td>&lt; LOD</td>\n",
       "    </tr>\n",
       "    <tr>\n",
       "      <th>4</th>\n",
       "      <td>WHOLE_MILK_FLUID</td>\n",
       "      <td>1.0</td>\n",
       "      <td>0.700</td>\n",
       "      <td>3.000</td>\n",
       "      <td>0.00</td>\n",
       "      <td>IRON</td>\n",
       "      <td>SARAP Project #10579</td>\n",
       "      <td>ICPAES</td>\n",
       "      <td>199103.0</td>\n",
       "      <td>1991.0</td>\n",
       "      <td>03.0</td>\n",
       "      <td>&lt; LOD</td>\n",
       "    </tr>\n",
       "    <tr>\n",
       "      <th>...</th>\n",
       "      <td>...</td>\n",
       "      <td>...</td>\n",
       "      <td>...</td>\n",
       "      <td>...</td>\n",
       "      <td>...</td>\n",
       "      <td>...</td>\n",
       "      <td>...</td>\n",
       "      <td>...</td>\n",
       "      <td>...</td>\n",
       "      <td>...</td>\n",
       "      <td>...</td>\n",
       "      <td>...</td>\n",
       "    </tr>\n",
       "    <tr>\n",
       "      <th>1805</th>\n",
       "      <td>TORTILLA_CORN</td>\n",
       "      <td>400.0</td>\n",
       "      <td>0.198</td>\n",
       "      <td>1.780</td>\n",
       "      <td>10.10</td>\n",
       "      <td>ZINC</td>\n",
       "      <td>FDA EAM Method 4.4 (ICPAES; Multielement; Food</td>\n",
       "      <td>ICPAES</td>\n",
       "      <td>201704.0</td>\n",
       "      <td>2017.0</td>\n",
       "      <td>04.0</td>\n",
       "      <td>&gt; LOQ</td>\n",
       "    </tr>\n",
       "    <tr>\n",
       "      <th>1806</th>\n",
       "      <td>BREAD_WHITE_ROLL/BUN_(HAMBURGER/HOTDOG)</td>\n",
       "      <td>401.0</td>\n",
       "      <td>0.198</td>\n",
       "      <td>1.780</td>\n",
       "      <td>7.33</td>\n",
       "      <td>ZINC</td>\n",
       "      <td>FDA EAM Method 4.4 (ICPAES; Multielement; Food</td>\n",
       "      <td>ICPAES</td>\n",
       "      <td>201704.0</td>\n",
       "      <td>2017.0</td>\n",
       "      <td>04.0</td>\n",
       "      <td>&gt; LOQ</td>\n",
       "    </tr>\n",
       "    <tr>\n",
       "      <th>1807</th>\n",
       "      <td>RICE_BROWN_COOKED</td>\n",
       "      <td>402.0</td>\n",
       "      <td>0.198</td>\n",
       "      <td>1.780</td>\n",
       "      <td>11.60</td>\n",
       "      <td>ZINC</td>\n",
       "      <td>FDA EAM Method 4.4 (ICPAES; Multielement; Food</td>\n",
       "      <td>ICPAES</td>\n",
       "      <td>201704.0</td>\n",
       "      <td>2017.0</td>\n",
       "      <td>04.0</td>\n",
       "      <td>&gt; LOQ</td>\n",
       "    </tr>\n",
       "    <tr>\n",
       "      <th>1808</th>\n",
       "      <td>WALNUTS_SHELLED</td>\n",
       "      <td>403.0</td>\n",
       "      <td>0.198</td>\n",
       "      <td>1.780</td>\n",
       "      <td>28.30</td>\n",
       "      <td>ZINC</td>\n",
       "      <td>FDA EAM Method 4.4 (ICPAES; Multielement; Food</td>\n",
       "      <td>ICPAES</td>\n",
       "      <td>201704.0</td>\n",
       "      <td>2017.0</td>\n",
       "      <td>04.0</td>\n",
       "      <td>&gt; LOQ</td>\n",
       "    </tr>\n",
       "    <tr>\n",
       "      <th>1809</th>\n",
       "      <td>PIZZA_CHEESE_FAST-FOOD</td>\n",
       "      <td>404.0</td>\n",
       "      <td>0.198</td>\n",
       "      <td>1.780</td>\n",
       "      <td>14.50</td>\n",
       "      <td>ZINC</td>\n",
       "      <td>FDA EAM Method 4.4 (ICPAES; Multielement; Food</td>\n",
       "      <td>ICPAES</td>\n",
       "      <td>201704.0</td>\n",
       "      <td>2017.0</td>\n",
       "      <td>04.0</td>\n",
       "      <td>&gt; LOQ</td>\n",
       "    </tr>\n",
       "  </tbody>\n",
       "</table>\n",
       "<p>352926 rows × 12 columns</p>\n",
       "</div>"
      ],
      "text/plain": [
       "                                    Food_Name  Food_No    LOD     LOQ  \\\n",
       "0                            WHOLE_MILK_FLUID      1.0  0.050   0.140   \n",
       "1                            WHOLE_MILK_FLUID      1.0  0.002   0.005   \n",
       "2                            WHOLE_MILK_FLUID      1.0  3.000  10.000   \n",
       "3                            WHOLE_MILK_FLUID      1.0  0.250   0.900   \n",
       "4                            WHOLE_MILK_FLUID      1.0  0.700   3.000   \n",
       "...                                       ...      ...    ...     ...   \n",
       "1805                            TORTILLA_CORN    400.0  0.198   1.780   \n",
       "1806  BREAD_WHITE_ROLL/BUN_(HAMBURGER/HOTDOG)    401.0  0.198   1.780   \n",
       "1807                        RICE_BROWN_COOKED    402.0  0.198   1.780   \n",
       "1808                          WALNUTS_SHELLED    403.0  0.198   1.780   \n",
       "1809                   PIZZA_CHEESE_FAST-FOOD    404.0  0.198   1.780   \n",
       "\n",
       "      Conc_mgkg  Element                                           Method  \\\n",
       "0          0.00  ARSENIC            LIB 1900 & Anal. Chem. (1976) 48, 120   \n",
       "1          0.00  CADMIUM                              LIB 2403 (Modified)   \n",
       "2        261.00  CALCIUM                             SARAP Project #10579   \n",
       "3          0.00   COPPER                             SARAP Project #10579   \n",
       "4          0.00     IRON                             SARAP Project #10579   \n",
       "...         ...      ...                                              ...   \n",
       "1805      10.10     ZINC  FDA EAM Method 4.4 (ICPAES; Multielement; Food    \n",
       "1806       7.33     ZINC  FDA EAM Method 4.4 (ICPAES; Multielement; Food    \n",
       "1807      11.60     ZINC  FDA EAM Method 4.4 (ICPAES; Multielement; Food    \n",
       "1808      28.30     ZINC  FDA EAM Method 4.4 (ICPAES; Multielement; Food    \n",
       "1809      14.50     ZINC  FDA EAM Method 4.4 (ICPAES; Multielement; Food    \n",
       "\n",
       "     Instrument        MB    Year Market_Basket conc_indicator  \n",
       "0         HGAAS  199103.0  1991.0          03.0          < LOD  \n",
       "1         GFAAS  199103.0  1991.0          03.0          < LOD  \n",
       "2        ICPAES  199103.0  1991.0          03.0          > LOQ  \n",
       "3        ICPAES  199103.0  1991.0          03.0          < LOD  \n",
       "4        ICPAES  199103.0  1991.0          03.0          < LOD  \n",
       "...         ...       ...     ...           ...            ...  \n",
       "1805     ICPAES  201704.0  2017.0          04.0          > LOQ  \n",
       "1806     ICPAES  201704.0  2017.0          04.0          > LOQ  \n",
       "1807     ICPAES  201704.0  2017.0          04.0          > LOQ  \n",
       "1808     ICPAES  201704.0  2017.0          04.0          > LOQ  \n",
       "1809     ICPAES  201704.0  2017.0          04.0          > LOQ  \n",
       "\n",
       "[352926 rows x 12 columns]"
      ]
     },
     "execution_count": 68,
     "metadata": {},
     "output_type": "execute_result"
    }
   ],
   "source": [
    "df_select"
   ]
  },
  {
   "cell_type": "markdown",
   "metadata": {},
   "source": [
    "# Data Evaluation for Element Mass Fractions in Foods"
   ]
  },
  {
   "cell_type": "markdown",
   "metadata": {},
   "source": [
    "How many < LOD, trace, and > LOQ in the dataset"
   ]
  },
  {
   "cell_type": "code",
   "execution_count": 69,
   "metadata": {},
   "outputs": [],
   "source": [
    "df_FOM_count = df_select[['Food_Name', 'Element', 'conc_indicator']]\\\n",
    "    .value_counts()\\\n",
    "     .reset_index()"
   ]
  },
  {
   "cell_type": "code",
   "execution_count": 70,
   "metadata": {},
   "outputs": [
    {
     "data": {
      "text/html": [
       "<div>\n",
       "<style scoped>\n",
       "    .dataframe tbody tr th:only-of-type {\n",
       "        vertical-align: middle;\n",
       "    }\n",
       "\n",
       "    .dataframe tbody tr th {\n",
       "        vertical-align: top;\n",
       "    }\n",
       "\n",
       "    .dataframe thead th {\n",
       "        text-align: right;\n",
       "    }\n",
       "</style>\n",
       "<table border=\"1\" class=\"dataframe\">\n",
       "  <thead>\n",
       "    <tr style=\"text-align: right;\">\n",
       "      <th></th>\n",
       "      <th>Food_Name</th>\n",
       "      <th>Element</th>\n",
       "      <th>conc_indicator</th>\n",
       "      <th>count</th>\n",
       "    </tr>\n",
       "  </thead>\n",
       "  <tbody>\n",
       "    <tr>\n",
       "      <th>0</th>\n",
       "      <td>EGGS_BOILED</td>\n",
       "      <td>CADMIUM</td>\n",
       "      <td>&lt; LOD</td>\n",
       "      <td>99</td>\n",
       "    </tr>\n",
       "    <tr>\n",
       "      <th>1</th>\n",
       "      <td>ENGLISH_MUFFIN_PLAIN_TOASTED</td>\n",
       "      <td>CADMIUM</td>\n",
       "      <td>&gt; LOQ</td>\n",
       "      <td>99</td>\n",
       "    </tr>\n",
       "    <tr>\n",
       "      <th>2</th>\n",
       "      <td>SPINACH_FRESH/FROZEN_BOILED</td>\n",
       "      <td>CADMIUM</td>\n",
       "      <td>&gt; LOQ</td>\n",
       "      <td>99</td>\n",
       "    </tr>\n",
       "    <tr>\n",
       "      <th>3</th>\n",
       "      <td>ENGLISH_MUFFIN_PLAIN_TOASTED</td>\n",
       "      <td>SODIUM</td>\n",
       "      <td>&gt; LOQ</td>\n",
       "      <td>98</td>\n",
       "    </tr>\n",
       "    <tr>\n",
       "      <th>4</th>\n",
       "      <td>GREEN_BEANS_FRESH/FROZEN_BOILED</td>\n",
       "      <td>ARSENIC</td>\n",
       "      <td>&lt; LOD</td>\n",
       "      <td>98</td>\n",
       "    </tr>\n",
       "    <tr>\n",
       "      <th>...</th>\n",
       "      <td>...</td>\n",
       "      <td>...</td>\n",
       "      <td>...</td>\n",
       "      <td>...</td>\n",
       "    </tr>\n",
       "    <tr>\n",
       "      <th>13594</th>\n",
       "      <td>BEEF_ROAST_CHUCK_OVEN-ROASTED</td>\n",
       "      <td>LEAD</td>\n",
       "      <td>trace</td>\n",
       "      <td>1</td>\n",
       "    </tr>\n",
       "    <tr>\n",
       "      <th>13595</th>\n",
       "      <td>CHEESE_MONTEREY_JACK</td>\n",
       "      <td>ARSENIC</td>\n",
       "      <td>&lt; LOD</td>\n",
       "      <td>1</td>\n",
       "    </tr>\n",
       "    <tr>\n",
       "      <th>13596</th>\n",
       "      <td>TACO/TOSTADA_WITH_BEEF_AND_CHEESE_FROM_MEXICAN...</td>\n",
       "      <td>CHROMIUM</td>\n",
       "      <td>&gt; LOQ</td>\n",
       "      <td>1</td>\n",
       "    </tr>\n",
       "    <tr>\n",
       "      <th>13597</th>\n",
       "      <td>BF_CHICKEN_WITH_RICE</td>\n",
       "      <td>SELENIUM</td>\n",
       "      <td>&lt; LOD</td>\n",
       "      <td>1</td>\n",
       "    </tr>\n",
       "    <tr>\n",
       "      <th>13598</th>\n",
       "      <td>GRAHAM_CRACKERS</td>\n",
       "      <td>NICKEL</td>\n",
       "      <td>&lt; LOD</td>\n",
       "      <td>1</td>\n",
       "    </tr>\n",
       "  </tbody>\n",
       "</table>\n",
       "<p>13599 rows × 4 columns</p>\n",
       "</div>"
      ],
      "text/plain": [
       "                                               Food_Name   Element  \\\n",
       "0                                            EGGS_BOILED   CADMIUM   \n",
       "1                           ENGLISH_MUFFIN_PLAIN_TOASTED   CADMIUM   \n",
       "2                            SPINACH_FRESH/FROZEN_BOILED   CADMIUM   \n",
       "3                           ENGLISH_MUFFIN_PLAIN_TOASTED    SODIUM   \n",
       "4                        GREEN_BEANS_FRESH/FROZEN_BOILED   ARSENIC   \n",
       "...                                                  ...       ...   \n",
       "13594                      BEEF_ROAST_CHUCK_OVEN-ROASTED      LEAD   \n",
       "13595                               CHEESE_MONTEREY_JACK   ARSENIC   \n",
       "13596  TACO/TOSTADA_WITH_BEEF_AND_CHEESE_FROM_MEXICAN...  CHROMIUM   \n",
       "13597                               BF_CHICKEN_WITH_RICE  SELENIUM   \n",
       "13598                                    GRAHAM_CRACKERS    NICKEL   \n",
       "\n",
       "      conc_indicator  count  \n",
       "0              < LOD     99  \n",
       "1              > LOQ     99  \n",
       "2              > LOQ     99  \n",
       "3              > LOQ     98  \n",
       "4              < LOD     98  \n",
       "...              ...    ...  \n",
       "13594          trace      1  \n",
       "13595          < LOD      1  \n",
       "13596          > LOQ      1  \n",
       "13597          < LOD      1  \n",
       "13598          < LOD      1  \n",
       "\n",
       "[13599 rows x 4 columns]"
      ]
     },
     "execution_count": 70,
     "metadata": {},
     "output_type": "execute_result"
    }
   ],
   "source": [
    "df_FOM_count"
   ]
  },
  {
   "cell_type": "code",
   "execution_count": 71,
   "metadata": {},
   "outputs": [
    {
     "data": {
      "text/html": [
       "<div>\n",
       "<style scoped>\n",
       "    .dataframe tbody tr th:only-of-type {\n",
       "        vertical-align: middle;\n",
       "    }\n",
       "\n",
       "    .dataframe tbody tr th {\n",
       "        vertical-align: top;\n",
       "    }\n",
       "\n",
       "    .dataframe thead th {\n",
       "        text-align: right;\n",
       "    }\n",
       "</style>\n",
       "<table border=\"1\" class=\"dataframe\">\n",
       "  <thead>\n",
       "    <tr style=\"text-align: right;\">\n",
       "      <th></th>\n",
       "      <th>Food_Name</th>\n",
       "      <th>Element</th>\n",
       "      <th>conc_indicator</th>\n",
       "      <th>count</th>\n",
       "    </tr>\n",
       "  </thead>\n",
       "  <tbody>\n",
       "    <tr>\n",
       "      <th>186</th>\n",
       "      <td>ENGLISH_MUFFIN_PLAIN_TOASTED</td>\n",
       "      <td>IRON</td>\n",
       "      <td>&gt; LOQ</td>\n",
       "      <td>95</td>\n",
       "    </tr>\n",
       "    <tr>\n",
       "      <th>219</th>\n",
       "      <td>EGGS_BOILED</td>\n",
       "      <td>IRON</td>\n",
       "      <td>&gt; LOQ</td>\n",
       "      <td>95</td>\n",
       "    </tr>\n",
       "    <tr>\n",
       "      <th>253</th>\n",
       "      <td>FISH_SANDWICH_ON_BUN_FAST-FOOD</td>\n",
       "      <td>IRON</td>\n",
       "      <td>&gt; LOQ</td>\n",
       "      <td>94</td>\n",
       "    </tr>\n",
       "    <tr>\n",
       "      <th>258</th>\n",
       "      <td>SHREDDED_WHEAT_CEREAL</td>\n",
       "      <td>IRON</td>\n",
       "      <td>&gt; LOQ</td>\n",
       "      <td>94</td>\n",
       "    </tr>\n",
       "    <tr>\n",
       "      <th>267</th>\n",
       "      <td>CRISPED_RICE_CEREAL</td>\n",
       "      <td>IRON</td>\n",
       "      <td>&gt; LOQ</td>\n",
       "      <td>94</td>\n",
       "    </tr>\n",
       "    <tr>\n",
       "      <th>...</th>\n",
       "      <td>...</td>\n",
       "      <td>...</td>\n",
       "      <td>...</td>\n",
       "      <td>...</td>\n",
       "    </tr>\n",
       "    <tr>\n",
       "      <th>13475</th>\n",
       "      <td>DRY_TABLE_WINE</td>\n",
       "      <td>IRON</td>\n",
       "      <td>&lt; LOD</td>\n",
       "      <td>1</td>\n",
       "    </tr>\n",
       "    <tr>\n",
       "      <th>13509</th>\n",
       "      <td>POTATO_CHIPS</td>\n",
       "      <td>IRON</td>\n",
       "      <td>trace</td>\n",
       "      <td>1</td>\n",
       "    </tr>\n",
       "    <tr>\n",
       "      <th>13510</th>\n",
       "      <td>CHEESE_MONTEREY_JACK</td>\n",
       "      <td>IRON</td>\n",
       "      <td>trace</td>\n",
       "      <td>1</td>\n",
       "    </tr>\n",
       "    <tr>\n",
       "      <th>13515</th>\n",
       "      <td>CHEESE_MOZZARELLA</td>\n",
       "      <td>IRON</td>\n",
       "      <td>&lt; LOD</td>\n",
       "      <td>1</td>\n",
       "    </tr>\n",
       "    <tr>\n",
       "      <th>13546</th>\n",
       "      <td>CUCUMBER_RAW</td>\n",
       "      <td>IRON</td>\n",
       "      <td>&gt; LOQ</td>\n",
       "      <td>1</td>\n",
       "    </tr>\n",
       "  </tbody>\n",
       "</table>\n",
       "<p>880 rows × 4 columns</p>\n",
       "</div>"
      ],
      "text/plain": [
       "                            Food_Name Element conc_indicator  count\n",
       "186      ENGLISH_MUFFIN_PLAIN_TOASTED    IRON          > LOQ     95\n",
       "219                       EGGS_BOILED    IRON          > LOQ     95\n",
       "253    FISH_SANDWICH_ON_BUN_FAST-FOOD    IRON          > LOQ     94\n",
       "258             SHREDDED_WHEAT_CEREAL    IRON          > LOQ     94\n",
       "267               CRISPED_RICE_CEREAL    IRON          > LOQ     94\n",
       "...                               ...     ...            ...    ...\n",
       "13475                  DRY_TABLE_WINE    IRON          < LOD      1\n",
       "13509                    POTATO_CHIPS    IRON          trace      1\n",
       "13510            CHEESE_MONTEREY_JACK    IRON          trace      1\n",
       "13515               CHEESE_MOZZARELLA    IRON          < LOD      1\n",
       "13546                    CUCUMBER_RAW    IRON          > LOQ      1\n",
       "\n",
       "[880 rows x 4 columns]"
      ]
     },
     "execution_count": 71,
     "metadata": {},
     "output_type": "execute_result"
    }
   ],
   "source": [
    "df_FOM_count.query('Element == \"IRON\"')"
   ]
  },
  {
   "cell_type": "markdown",
   "metadata": {},
   "source": [
    "# Are There Trends in Element Mass Fractions for Certain Foods?"
   ]
  },
  {
   "cell_type": "code",
   "execution_count": 72,
   "metadata": {},
   "outputs": [
    {
     "data": {
      "image/png": "[encoded data removed]",
      "text/plain": [
       "<Figure size 640x480 with 1 Axes>"
      ]
     },
     "metadata": {},
     "output_type": "display_data"
    }
   ],
   "source": [
    "sns.regplot(df_select.query('Food_Name == \"BANANAS_WITH_TAPIOCA_STRAINED/JUNIOR\" and Element == \"POTASSIUM\"'),\n",
    "                x = \"Year\",\n",
    "                y = \"Conc_mgkg\",\n",
    "                #hue = \"Method\",\n",
    "               );"
   ]
  },
  {
   "cell_type": "code",
   "execution_count": 73,
   "metadata": {},
   "outputs": [
    {
     "data": {
      "image/png": "[encoded data removed]",
      "text/plain": [
       "<Figure size 640x480 with 1 Axes>"
      ]
     },
     "metadata": {},
     "output_type": "display_data"
    }
   ],
   "source": [
    "sns.regplot(df_select.query('Food_Name == \"BANANA_RAW\" and Element == \"POTASSIUM\"'),\n",
    "                x = \"Year\",\n",
    "                y = \"Conc_mgkg\",\n",
    "                #hue = \"Method\",\n",
    "               );"
   ]
  },
  {
   "cell_type": "code",
   "execution_count": 74,
   "metadata": {},
   "outputs": [
    {
     "data": {
      "image/png": "[encoded data removed]",
      "text/plain": [
       "<Figure size 640x480 with 1 Axes>"
      ]
     },
     "metadata": {},
     "output_type": "display_data"
    }
   ],
   "source": [
    "sns.regplot(df_select.query('Food_Name == \"AVOCADO_RAW\" and Element == \"POTASSIUM\"'),\n",
    "                x = \"Year\",\n",
    "                y = \"Conc_mgkg\",\n",
    "                #hue = \"Method\",\n",
    "               );"
   ]
  },
  {
   "cell_type": "code",
   "execution_count": 75,
   "metadata": {},
   "outputs": [
    {
     "data": {
      "image/png": "[encoded data removed]",
      "text/plain": [
       "<Figure size 640x480 with 1 Axes>"
      ]
     },
     "metadata": {},
     "output_type": "display_data"
    }
   ],
   "source": [
    "sns.regplot(df_select.query('Food_Name == \"SUMMER_SQUASH_FRESH/FROZEN_BOILED\" and Element == \"POTASSIUM\"'),\n",
    "                x = \"Year\",\n",
    "                y = \"Conc_mgkg\",\n",
    "                #hue = \"Method\",\n",
    "               );"
   ]
  },
  {
   "cell_type": "code",
   "execution_count": 76,
   "metadata": {},
   "outputs": [
    {
     "data": {
      "image/png": "[encoded data removed]",
      "text/plain": [
       "<Figure size 640x480 with 1 Axes>"
      ]
     },
     "metadata": {},
     "output_type": "display_data"
    }
   ],
   "source": [
    "sns.regplot(df_select.query('Food_Name == \"TORTILLA_FLOUR\" and Element == \"CADMIUM\"'),\n",
    "                x = \"Year\",\n",
    "                y = \"Conc_mgkg\",\n",
    "                #hue = \"Method\",\n",
    "               );"
   ]
  },
  {
   "cell_type": "markdown",
   "metadata": {},
   "source": [
    "Summary of Element Mass Fractions for the Seleted Elements of Interest"
   ]
  },
  {
   "cell_type": "code",
   "execution_count": 77,
   "metadata": {
    "id": "OVe8_p0O-cJ_"
   },
   "outputs": [
    {
     "data": {
      "image/png": "[encoded data removed]",
      "text/plain": [
       "<Figure size 640x480 with 1 Axes>"
      ]
     },
     "metadata": {},
     "output_type": "display_data"
    }
   ],
   "source": [
    "ax = sns.boxplot(df_select.query('Conc_mgkg > LOQ'), x='Element', y = 'Conc_mgkg')\n",
    "ax.set_yscale(\"log\")\n",
    "ax.tick_params(axis='x', rotation=90)"
   ]
  },
  {
   "cell_type": "code",
   "execution_count": 78,
   "metadata": {},
   "outputs": [],
   "source": [
    "#df_select.to_csv(\"FDA_TDS_selected_elements.csv\", index = False)"
   ]
  }
 ],
 "metadata": {
  "colab": {
   "provenance": []
  },
  "kernelspec": {
   "display_name": "Python 3 (ipykernel)",
   "language": "python",
   "name": "python3"
  },
  "language_info": {
   "codemirror_mode": {
    "name": "ipython",
    "version": 3
   },
   "file_extension": ".py",
   "mimetype": "text/x-python",
   "name": "python",
   "nbconvert_exporter": "python",
   "pygments_lexer": "ipython3",
   "version": "3.12.4"
  }
 },
 "nbformat": 4,
 "nbformat_minor": 4
}
